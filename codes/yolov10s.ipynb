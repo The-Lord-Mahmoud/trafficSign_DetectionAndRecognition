{
  "metadata": {
    "kernelspec": {
      "language": "python",
      "display_name": "Python 3",
      "name": "python3"
    },
    "language_info": {
      "name": "python",
      "version": "3.10.14",
      "mimetype": "text/x-python",
      "codemirror_mode": {
        "name": "ipython",
        "version": 3
      },
      "pygments_lexer": "ipython3",
      "nbconvert_exporter": "python",
      "file_extension": ".py"
    },
    "kaggle": {
      "accelerator": "none",
      "dataSources": [
        {
          "sourceId": 9514476,
          "sourceType": "datasetVersion",
          "datasetId": 5792018
        }
      ],
      "dockerImageVersionId": 30775,
      "isInternetEnabled": true,
      "language": "python",
      "sourceType": "notebook",
      "isGpuEnabled": false
    },
    "colab": {
      "provenance": []
    }
  },
  "nbformat_minor": 0,
  "nbformat": 4,
  "cells": [
    {
      "cell_type": "code",
      "source": [
        "!pip install ultralytics -q\n"
      ],
      "metadata": {
        "execution": {
          "iopub.status.busy": "2024-10-01T10:04:46.384137Z",
          "iopub.execute_input": "2024-10-01T10:04:46.384661Z",
          "iopub.status.idle": "2024-10-01T10:05:00.324936Z",
          "shell.execute_reply.started": "2024-10-01T10:04:46.384622Z",
          "shell.execute_reply": "2024-10-01T10:05:00.323702Z"
        },
        "trusted": true,
        "id": "GR0ZWhTqCZaw"
      },
      "execution_count": null,
      "outputs": []
    },
    {
      "cell_type": "code",
      "source": [
        "from ultralytics import YOLO"
      ],
      "metadata": {
        "_uuid": "8f2839f25d086af736a60e9eeb907d3b93b6e0e5",
        "_cell_guid": "b1076dfc-b9ad-4769-8c92-a6c4dae69d19",
        "execution": {
          "iopub.status.busy": "2024-10-01T10:05:00.327030Z",
          "iopub.execute_input": "2024-10-01T10:05:00.327429Z",
          "iopub.status.idle": "2024-10-01T10:05:04.051788Z",
          "shell.execute_reply.started": "2024-10-01T10:05:00.327380Z",
          "shell.execute_reply": "2024-10-01T10:05:04.050964Z"
        },
        "trusted": true,
        "id": "KMt5W8q_CZaw",
        "outputId": "185bc65b-dcbe-43c3-969b-156a20ac094a"
      },
      "execution_count": null,
      "outputs": [
        {
          "name": "stdout",
          "text": "Creating new Ultralytics Settings v0.0.6 file ✅ \nView Ultralytics Settings with 'yolo settings' or at '/root/.config/Ultralytics/settings.json'\nUpdate Settings with 'yolo settings key=value', i.e. 'yolo settings runs_dir=path/to/dir'. For help see https://docs.ultralytics.com/quickstart/#ultralytics-settings.\n",
          "output_type": "stream"
        }
      ]
    },
    {
      "cell_type": "markdown",
      "source": [
        "### **YOLO Model Initialization**\n",
        "\n",
        "This line of code initializes a YOLO (You Only Look Once) object detection model using the specified pre-trained weights file.\n",
        "\n",
        "---\n",
        "\n",
        "### **Code:**\n",
        "\n"
      ],
      "metadata": {
        "id": "s-WXh07YCvic"
      }
    },
    {
      "cell_type": "code",
      "source": [
        "yolov10s = YOLO('yolov10s.pt')"
      ],
      "metadata": {
        "execution": {
          "iopub.status.busy": "2024-10-01T10:05:04.052867Z",
          "iopub.execute_input": "2024-10-01T10:05:04.053233Z",
          "iopub.status.idle": "2024-10-01T10:05:05.131117Z",
          "shell.execute_reply.started": "2024-10-01T10:05:04.053203Z",
          "shell.execute_reply": "2024-10-01T10:05:05.130191Z"
        },
        "trusted": true,
        "id": "GL7mrhK2CZaw",
        "outputId": "2d0e1488-e314-43a2-eb08-1ca29d4c2384"
      },
      "execution_count": null,
      "outputs": [
        {
          "name": "stdout",
          "text": "Downloading https://github.com/ultralytics/assets/releases/download/v8.3.0/yolov10s.pt to 'yolov10s.pt'...\n",
          "output_type": "stream"
        },
        {
          "name": "stderr",
          "text": "100%|██████████| 15.9M/15.9M [00:00<00:00, 50.9MB/s]\n",
          "output_type": "stream"
        }
      ]
    },
    {
      "cell_type": "markdown",
      "source": [
        "### **YOLO Model Training**\n",
        "\n",
        "This line of code initiates the training process for the YOLO model using specified parameters and a dataset configuration file.\n",
        "\n",
        "---\n",
        "\n",
        "### **Code:**\n",
        "\n"
      ],
      "metadata": {
        "id": "fVc5OagnC3pR"
      }
    },
    {
      "cell_type": "code",
      "source": [
        "yolov10s.train(data = '/kaggle/input/trafficsigns14/dataset/data.yaml',imgsz = 416 ,epochs = 128,batch = 64)"
      ],
      "metadata": {
        "execution": {
          "iopub.status.busy": "2024-10-01T10:05:05.133130Z",
          "iopub.execute_input": "2024-10-01T10:05:05.133807Z",
          "iopub.status.idle": "2024-10-01T11:43:51.482922Z",
          "shell.execute_reply.started": "2024-10-01T10:05:05.133762Z",
          "shell.execute_reply": "2024-10-01T11:43:51.481889Z"
        },
        "trusted": true,
        "colab": {
          "referenced_widgets": [
            ""
          ]
        },
        "id": "mQzkxsGtCZaw",
        "outputId": "95799597-bb09-4309-c397-77b5446b1b97"
      },
      "execution_count": null,
      "outputs": [
        {
          "name": "stdout",
          "text": "Ultralytics 8.3.2 🚀 Python-3.10.14 torch-2.4.0 CUDA:0 (Tesla T4, 15095MiB)\n\u001b[34m\u001b[1mengine/trainer: \u001b[0mtask=detect, mode=train, model=yolov10s.pt, data=/kaggle/input/trafficsigns14/dataset/data.yaml, epochs=128, time=None, patience=100, batch=64, imgsz=416, save=True, save_period=-1, cache=False, device=None, workers=8, project=None, name=train, exist_ok=False, pretrained=True, optimizer=auto, verbose=True, seed=0, deterministic=True, single_cls=False, rect=False, cos_lr=False, close_mosaic=10, resume=False, amp=True, fraction=1.0, profile=False, freeze=None, multi_scale=False, overlap_mask=True, mask_ratio=4, dropout=0.0, val=True, split=val, save_json=False, save_hybrid=False, conf=None, iou=0.7, max_det=300, half=False, dnn=False, plots=True, source=None, vid_stride=1, stream_buffer=False, visualize=False, augment=False, agnostic_nms=False, classes=None, retina_masks=False, embed=None, show=False, save_frames=False, save_txt=False, save_conf=False, save_crop=False, show_labels=True, show_conf=True, show_boxes=True, line_width=None, format=torchscript, keras=False, optimize=False, int8=False, dynamic=False, simplify=True, opset=None, workspace=4, nms=False, lr0=0.01, lrf=0.01, momentum=0.937, weight_decay=0.0005, warmup_epochs=3.0, warmup_momentum=0.8, warmup_bias_lr=0.1, box=7.5, cls=0.5, dfl=1.5, pose=12.0, kobj=1.0, label_smoothing=0.0, nbs=64, hsv_h=0.015, hsv_s=0.7, hsv_v=0.4, degrees=0.0, translate=0.1, scale=0.5, shear=0.0, perspective=0.0, flipud=0.0, fliplr=0.5, bgr=0.0, mosaic=1.0, mixup=0.0, copy_paste=0.0, copy_paste_mode=flip, auto_augment=randaugment, erasing=0.4, crop_fraction=1.0, cfg=None, tracker=botsort.yaml, save_dir=runs/detect/train\nDownloading https://ultralytics.com/assets/Arial.ttf to '/root/.config/Ultralytics/Arial.ttf'...\n",
          "output_type": "stream"
        },
        {
          "name": "stderr",
          "text": "100%|██████████| 755k/755k [00:00<00:00, 6.66MB/s]\n2024-10-01 10:05:07,195\tINFO util.py:124 -- Outdated packages:\n  ipywidgets==7.7.1 found, needs ipywidgets>=8\nRun `pip install -U ipywidgets`, then restart the notebook server for rich notebook output.\n2024-10-01 10:05:08,116\tINFO util.py:124 -- Outdated packages:\n  ipywidgets==7.7.1 found, needs ipywidgets>=8\nRun `pip install -U ipywidgets`, then restart the notebook server for rich notebook output.\n",
          "output_type": "stream"
        },
        {
          "name": "stdout",
          "text": "Overriding model.yaml nc=80 with nc=14\n\n                   from  n    params  module                                       arguments                     \n  0                  -1  1       928  ultralytics.nn.modules.conv.Conv             [3, 32, 3, 2]                 \n  1                  -1  1     18560  ultralytics.nn.modules.conv.Conv             [32, 64, 3, 2]                \n  2                  -1  1     29056  ultralytics.nn.modules.block.C2f             [64, 64, 1, True]             \n  3                  -1  1     73984  ultralytics.nn.modules.conv.Conv             [64, 128, 3, 2]               \n  4                  -1  2    197632  ultralytics.nn.modules.block.C2f             [128, 128, 2, True]           \n  5                  -1  1     36096  ultralytics.nn.modules.block.SCDown          [128, 256, 3, 2]              \n  6                  -1  2    788480  ultralytics.nn.modules.block.C2f             [256, 256, 2, True]           \n  7                  -1  1    137728  ultralytics.nn.modules.block.SCDown          [256, 512, 3, 2]              \n  8                  -1  1    958464  ultralytics.nn.modules.block.C2fCIB          [512, 512, 1, True, True]     \n  9                  -1  1    656896  ultralytics.nn.modules.block.SPPF            [512, 512, 5]                 \n 10                  -1  1    990976  ultralytics.nn.modules.block.PSA             [512, 512]                    \n 11                  -1  1         0  torch.nn.modules.upsampling.Upsample         [None, 2, 'nearest']          \n 12             [-1, 6]  1         0  ultralytics.nn.modules.conv.Concat           [1]                           \n 13                  -1  1    591360  ultralytics.nn.modules.block.C2f             [768, 256, 1]                 \n 14                  -1  1         0  torch.nn.modules.upsampling.Upsample         [None, 2, 'nearest']          \n 15             [-1, 4]  1         0  ultralytics.nn.modules.conv.Concat           [1]                           \n 16                  -1  1    148224  ultralytics.nn.modules.block.C2f             [384, 128, 1]                 \n 17                  -1  1    147712  ultralytics.nn.modules.conv.Conv             [128, 128, 3, 2]              \n 18            [-1, 13]  1         0  ultralytics.nn.modules.conv.Concat           [1]                           \n 19                  -1  1    493056  ultralytics.nn.modules.block.C2f             [384, 256, 1]                 \n 20                  -1  1     68864  ultralytics.nn.modules.block.SCDown          [256, 256, 3, 2]              \n 21            [-1, 10]  1         0  ultralytics.nn.modules.conv.Concat           [1]                           \n 22                  -1  1   1089536  ultralytics.nn.modules.block.C2fCIB          [768, 512, 1, True, True]     \n 23        [16, 19, 22]  1   1649636  ultralytics.nn.modules.head.v10Detect        [14, [128, 256, 512]]         \nYOLOv10s summary: 402 layers, 8,077,188 parameters, 8,077,172 gradients, 24.8 GFLOPs\n\nTransferred 607/619 items from pretrained weights\n\u001b[34m\u001b[1mTensorBoard: \u001b[0mStart with 'tensorboard --logdir runs/detect/train', view at http://localhost:6006/\n",
          "output_type": "stream"
        },
        {
          "name": "stderr",
          "text": "\u001b[34m\u001b[1mwandb\u001b[0m: Using wandb-core as the SDK backend. Please refer to https://wandb.me/wandb-core for more information.\n\u001b[34m\u001b[1mwandb\u001b[0m: Logging into wandb.ai. (Learn how to deploy a W&B server locally: https://wandb.me/wandb-server)\n\u001b[34m\u001b[1mwandb\u001b[0m: You can find your API key in your browser here: https://wandb.ai/authorize\n\u001b[34m\u001b[1mwandb\u001b[0m: Paste an API key from your profile and hit enter, or press ctrl+c to quit:",
          "output_type": "stream"
        },
        {
          "output_type": "stream",
          "name": "stdin",
          "text": "  ········································\n"
        },
        {
          "name": "stderr",
          "text": "\u001b[34m\u001b[1mwandb\u001b[0m: Appending key for api.wandb.ai to your netrc file: /root/.netrc\n",
          "output_type": "stream"
        },
        {
          "output_type": "display_data",
          "data": {
            "text/plain": "<IPython.core.display.HTML object>",
            "text/html": "Tracking run with wandb version 0.18.1"
          },
          "metadata": {}
        },
        {
          "output_type": "display_data",
          "data": {
            "text/plain": "<IPython.core.display.HTML object>",
            "text/html": "Run data is saved locally in <code>/kaggle/working/wandb/run-20241001_100544-jqlvb1ot</code>"
          },
          "metadata": {}
        },
        {
          "output_type": "display_data",
          "data": {
            "text/plain": "<IPython.core.display.HTML object>",
            "text/html": "Syncing run <strong><a href='https://wandb.ai/ahmeddd5-benha-university/YOLOv8/runs/jqlvb1ot' target=\"_blank\">train</a></strong> to <a href='https://wandb.ai/ahmeddd5-benha-university/YOLOv8' target=\"_blank\">Weights & Biases</a> (<a href='https://wandb.me/run' target=\"_blank\">docs</a>)<br/>"
          },
          "metadata": {}
        },
        {
          "output_type": "display_data",
          "data": {
            "text/plain": "<IPython.core.display.HTML object>",
            "text/html": " View project at <a href='https://wandb.ai/ahmeddd5-benha-university/YOLOv8' target=\"_blank\">https://wandb.ai/ahmeddd5-benha-university/YOLOv8</a>"
          },
          "metadata": {}
        },
        {
          "output_type": "display_data",
          "data": {
            "text/plain": "<IPython.core.display.HTML object>",
            "text/html": " View run at <a href='https://wandb.ai/ahmeddd5-benha-university/YOLOv8/runs/jqlvb1ot' target=\"_blank\">https://wandb.ai/ahmeddd5-benha-university/YOLOv8/runs/jqlvb1ot</a>"
          },
          "metadata": {}
        },
        {
          "name": "stdout",
          "text": "Freezing layer 'model.23.dfl.conv.weight'\n\u001b[34m\u001b[1mAMP: \u001b[0mrunning Automatic Mixed Precision (AMP) checks with YOLO11n...\nDownloading https://github.com/ultralytics/assets/releases/download/v8.3.0/yolo11n.pt to 'yolo11n.pt'...\n",
          "output_type": "stream"
        },
        {
          "name": "stderr",
          "text": "100%|██████████| 5.35M/5.35M [00:00<00:00, 31.8MB/s]\n",
          "output_type": "stream"
        },
        {
          "name": "stdout",
          "text": "\u001b[34m\u001b[1mAMP: \u001b[0mchecks passed ✅\n",
          "output_type": "stream"
        },
        {
          "name": "stderr",
          "text": "\u001b[34m\u001b[1mtrain: \u001b[0mScanning /kaggle/input/trafficsigns14/dataset/train/labels... 4164 images, 6 backgrounds, 0 corrupt: 100%|██████████| 4164/4164 [00:24<00:00, 171.79it/s]\n",
          "output_type": "stream"
        },
        {
          "name": "stdout",
          "text": "\u001b[34m\u001b[1mtrain: \u001b[0mWARNING ⚠️ Cache directory /kaggle/input/trafficsigns14/dataset/train is not writeable, cache not saved.\n\u001b[34m\u001b[1malbumentations: \u001b[0mBlur(p=0.01, blur_limit=(3, 7)), MedianBlur(p=0.01, blur_limit=(3, 7)), ToGray(p=0.01, num_output_channels=3, method='weighted_average'), CLAHE(p=0.01, clip_limit=(1, 4.0), tile_grid_size=(8, 8))\n",
          "output_type": "stream"
        },
        {
          "name": "stderr",
          "text": "/opt/conda/lib/python3.10/site-packages/albumentations/__init__.py:13: UserWarning: A new version of Albumentations is available: 1.4.17 (you have 1.4.15). Upgrade using: pip install -U albumentations. To disable automatic update checks, set the environment variable NO_ALBUMENTATIONS_UPDATE to 1.\n  check_for_updates()\n/opt/conda/lib/python3.10/multiprocessing/popen_fork.py:66: RuntimeWarning: os.fork() was called. os.fork() is incompatible with multithreaded code, and JAX is multithreaded, so this will likely lead to a deadlock.\n  self.pid = os.fork()\n\u001b[34m\u001b[1mval: \u001b[0mScanning /kaggle/input/trafficsigns14/dataset/valid/labels... 801 images, 0 backgrounds, 0 corrupt: 100%|██████████| 801/801 [00:04<00:00, 178.07it/s]\n",
          "output_type": "stream"
        },
        {
          "name": "stdout",
          "text": "\u001b[34m\u001b[1mval: \u001b[0mWARNING ⚠️ Cache directory /kaggle/input/trafficsigns14/dataset/valid is not writeable, cache not saved.\nPlotting labels to runs/detect/train/labels.jpg... \n\u001b[34m\u001b[1moptimizer:\u001b[0m 'optimizer=auto' found, ignoring 'lr0=0.01' and 'momentum=0.937' and determining best 'optimizer', 'lr0' and 'momentum' automatically... \n\u001b[34m\u001b[1moptimizer:\u001b[0m AdamW(lr=0.000556, momentum=0.9) with parameter groups 99 weight(decay=0.0), 112 weight(decay=0.0005), 111 bias(decay=0.0)\n\u001b[34m\u001b[1mTensorBoard: \u001b[0mmodel graph visualization added ✅\nImage sizes 416 train, 416 val\nUsing 2 dataloader workers\nLogging results to \u001b[1mruns/detect/train\u001b[0m\nStarting training for 128 epochs...\n\n      Epoch    GPU_mem   box_loss   cls_loss   dfl_loss  Instances       Size\n",
          "output_type": "stream"
        },
        {
          "name": "stderr",
          "text": "      1/128      8.65G      2.079      14.79      2.482          9        416: 100%|██████████| 66/66 [00:39<00:00,  1.67it/s]\n                 Class     Images  Instances      Box(P          R      mAP50  mAP50-95): 100%|██████████| 7/7 [00:05<00:00,  1.34it/s]",
          "output_type": "stream"
        },
        {
          "name": "stdout",
          "text": "                   all        801        944      0.223      0.295      0.241      0.193\n",
          "output_type": "stream"
        },
        {
          "name": "stderr",
          "text": "\n",
          "output_type": "stream"
        },
        {
          "name": "stdout",
          "text": "\n      Epoch    GPU_mem   box_loss   cls_loss   dfl_loss  Instances       Size\n",
          "output_type": "stream"
        },
        {
          "name": "stderr",
          "text": "      2/128       8.6G       1.87      4.475      2.197          6        416: 100%|██████████| 66/66 [00:39<00:00,  1.68it/s]\n                 Class     Images  Instances      Box(P          R      mAP50  mAP50-95): 100%|██████████| 7/7 [00:04<00:00,  1.64it/s]\n",
          "output_type": "stream"
        },
        {
          "name": "stdout",
          "text": "                   all        801        944      0.394      0.354      0.312       0.23\n\n      Epoch    GPU_mem   box_loss   cls_loss   dfl_loss  Instances       Size\n",
          "output_type": "stream"
        },
        {
          "name": "stderr",
          "text": "      3/128      8.59G      1.988      3.841       2.26         10        416: 100%|██████████| 66/66 [00:40<00:00,  1.62it/s]\n                 Class     Images  Instances      Box(P          R      mAP50  mAP50-95): 100%|██████████| 7/7 [00:04<00:00,  1.54it/s]\n",
          "output_type": "stream"
        },
        {
          "name": "stdout",
          "text": "                   all        801        944      0.394      0.414       0.38      0.296\n\n      Epoch    GPU_mem   box_loss   cls_loss   dfl_loss  Instances       Size\n",
          "output_type": "stream"
        },
        {
          "name": "stderr",
          "text": "      4/128      8.59G      1.972      3.557      2.261         10        416: 100%|██████████| 66/66 [00:43<00:00,  1.52it/s]\n                 Class     Images  Instances      Box(P          R      mAP50  mAP50-95): 100%|██████████| 7/7 [00:04<00:00,  1.61it/s]\n",
          "output_type": "stream"
        },
        {
          "name": "stdout",
          "text": "                   all        801        944      0.473      0.337      0.311      0.237\n\n      Epoch    GPU_mem   box_loss   cls_loss   dfl_loss  Instances       Size\n",
          "output_type": "stream"
        },
        {
          "name": "stderr",
          "text": "      5/128      8.59G      1.883      3.195      2.209         12        416: 100%|██████████| 66/66 [00:43<00:00,  1.51it/s]\n                 Class     Images  Instances      Box(P          R      mAP50  mAP50-95): 100%|██████████| 7/7 [00:04<00:00,  1.59it/s]",
          "output_type": "stream"
        },
        {
          "name": "stdout",
          "text": "                   all        801        944      0.662       0.48      0.539      0.429\n",
          "output_type": "stream"
        },
        {
          "name": "stderr",
          "text": "\n",
          "output_type": "stream"
        },
        {
          "name": "stdout",
          "text": "\n      Epoch    GPU_mem   box_loss   cls_loss   dfl_loss  Instances       Size\n",
          "output_type": "stream"
        },
        {
          "name": "stderr",
          "text": "      6/128      8.62G      1.812      2.983      2.164          8        416: 100%|██████████| 66/66 [00:41<00:00,  1.60it/s]\n                 Class     Images  Instances      Box(P          R      mAP50  mAP50-95): 100%|██████████| 7/7 [00:04<00:00,  1.60it/s]",
          "output_type": "stream"
        },
        {
          "name": "stdout",
          "text": "                   all        801        944       0.69      0.589      0.661       0.54\n",
          "output_type": "stream"
        },
        {
          "name": "stderr",
          "text": "\n",
          "output_type": "stream"
        },
        {
          "name": "stdout",
          "text": "\n      Epoch    GPU_mem   box_loss   cls_loss   dfl_loss  Instances       Size\n",
          "output_type": "stream"
        },
        {
          "name": "stderr",
          "text": "      7/128      8.59G      1.754       2.75      2.123          9        416: 100%|██████████| 66/66 [00:39<00:00,  1.65it/s]\n                 Class     Images  Instances      Box(P          R      mAP50  mAP50-95): 100%|██████████| 7/7 [00:04<00:00,  1.58it/s]",
          "output_type": "stream"
        },
        {
          "name": "stdout",
          "text": "                   all        801        944      0.725      0.641      0.698      0.574\n",
          "output_type": "stream"
        },
        {
          "name": "stderr",
          "text": "\n",
          "output_type": "stream"
        },
        {
          "name": "stdout",
          "text": "\n      Epoch    GPU_mem   box_loss   cls_loss   dfl_loss  Instances       Size\n",
          "output_type": "stream"
        },
        {
          "name": "stderr",
          "text": "      8/128      8.59G      1.717      2.629      2.107          9        416: 100%|██████████| 66/66 [00:39<00:00,  1.65it/s]\n                 Class     Images  Instances      Box(P          R      mAP50  mAP50-95): 100%|██████████| 7/7 [00:04<00:00,  1.60it/s]",
          "output_type": "stream"
        },
        {
          "name": "stdout",
          "text": "                   all        801        944      0.764      0.658      0.744      0.624\n",
          "output_type": "stream"
        },
        {
          "name": "stderr",
          "text": "\n",
          "output_type": "stream"
        },
        {
          "name": "stdout",
          "text": "\n      Epoch    GPU_mem   box_loss   cls_loss   dfl_loss  Instances       Size\n",
          "output_type": "stream"
        },
        {
          "name": "stderr",
          "text": "      9/128      8.59G      1.694      2.605      2.094          8        416: 100%|██████████| 66/66 [00:39<00:00,  1.67it/s]\n                 Class     Images  Instances      Box(P          R      mAP50  mAP50-95): 100%|██████████| 7/7 [00:04<00:00,  1.64it/s]\n",
          "output_type": "stream"
        },
        {
          "name": "stdout",
          "text": "                   all        801        944      0.796      0.674      0.771      0.656\n\n      Epoch    GPU_mem   box_loss   cls_loss   dfl_loss  Instances       Size\n",
          "output_type": "stream"
        },
        {
          "name": "stderr",
          "text": "     10/128      8.58G       1.68      2.432      2.074         10        416: 100%|██████████| 66/66 [00:39<00:00,  1.67it/s]\n                 Class     Images  Instances      Box(P          R      mAP50  mAP50-95): 100%|██████████| 7/7 [00:04<00:00,  1.67it/s]\n",
          "output_type": "stream"
        },
        {
          "name": "stdout",
          "text": "                   all        801        944      0.763      0.703      0.754      0.643\n\n      Epoch    GPU_mem   box_loss   cls_loss   dfl_loss  Instances       Size\n",
          "output_type": "stream"
        },
        {
          "name": "stderr",
          "text": "     11/128      8.59G      1.672      2.415      2.081         11        416: 100%|██████████| 66/66 [00:39<00:00,  1.67it/s]\n                 Class     Images  Instances      Box(P          R      mAP50  mAP50-95): 100%|██████████| 7/7 [00:04<00:00,  1.66it/s]\n",
          "output_type": "stream"
        },
        {
          "name": "stdout",
          "text": "                   all        801        944      0.831      0.697      0.781      0.649\n\n      Epoch    GPU_mem   box_loss   cls_loss   dfl_loss  Instances       Size\n",
          "output_type": "stream"
        },
        {
          "name": "stderr",
          "text": "     12/128      8.59G      1.612      2.309      2.053          6        416: 100%|██████████| 66/66 [00:39<00:00,  1.66it/s]\n                 Class     Images  Instances      Box(P          R      mAP50  mAP50-95): 100%|██████████| 7/7 [00:04<00:00,  1.69it/s]\n",
          "output_type": "stream"
        },
        {
          "name": "stdout",
          "text": "                   all        801        944      0.833      0.757      0.828      0.679\n\n      Epoch    GPU_mem   box_loss   cls_loss   dfl_loss  Instances       Size\n",
          "output_type": "stream"
        },
        {
          "name": "stderr",
          "text": "     13/128      8.58G      1.613      2.256      2.055         15        416: 100%|██████████| 66/66 [00:39<00:00,  1.66it/s]\n                 Class     Images  Instances      Box(P          R      mAP50  mAP50-95): 100%|██████████| 7/7 [00:04<00:00,  1.69it/s]\n",
          "output_type": "stream"
        },
        {
          "name": "stdout",
          "text": "                   all        801        944      0.863       0.76      0.836      0.711\n\n      Epoch    GPU_mem   box_loss   cls_loss   dfl_loss  Instances       Size\n",
          "output_type": "stream"
        },
        {
          "name": "stderr",
          "text": "     14/128      8.59G      1.596      2.206      2.044         11        416: 100%|██████████| 66/66 [00:39<00:00,  1.66it/s]\n                 Class     Images  Instances      Box(P          R      mAP50  mAP50-95): 100%|██████████| 7/7 [00:04<00:00,  1.61it/s]\n",
          "output_type": "stream"
        },
        {
          "name": "stdout",
          "text": "                   all        801        944      0.883      0.745      0.849      0.718\n\n      Epoch    GPU_mem   box_loss   cls_loss   dfl_loss  Instances       Size\n",
          "output_type": "stream"
        },
        {
          "name": "stderr",
          "text": "     15/128      8.58G      1.539      2.187      2.028          8        416: 100%|██████████| 66/66 [00:39<00:00,  1.66it/s]\n                 Class     Images  Instances      Box(P          R      mAP50  mAP50-95): 100%|██████████| 7/7 [00:04<00:00,  1.67it/s]\n",
          "output_type": "stream"
        },
        {
          "name": "stdout",
          "text": "                   all        801        944      0.842      0.772      0.851      0.715\n\n      Epoch    GPU_mem   box_loss   cls_loss   dfl_loss  Instances       Size\n",
          "output_type": "stream"
        },
        {
          "name": "stderr",
          "text": "     16/128      8.59G      1.576      2.156      2.033         12        416: 100%|██████████| 66/66 [00:39<00:00,  1.67it/s]\n                 Class     Images  Instances      Box(P          R      mAP50  mAP50-95): 100%|██████████| 7/7 [00:04<00:00,  1.68it/s]\n",
          "output_type": "stream"
        },
        {
          "name": "stdout",
          "text": "                   all        801        944      0.873      0.785       0.85      0.712\n\n      Epoch    GPU_mem   box_loss   cls_loss   dfl_loss  Instances       Size\n",
          "output_type": "stream"
        },
        {
          "name": "stderr",
          "text": "     17/128      8.59G      1.546       2.11      2.022          8        416: 100%|██████████| 66/66 [00:39<00:00,  1.66it/s]\n                 Class     Images  Instances      Box(P          R      mAP50  mAP50-95): 100%|██████████| 7/7 [00:04<00:00,  1.69it/s]\n",
          "output_type": "stream"
        },
        {
          "name": "stdout",
          "text": "                   all        801        944      0.852        0.8       0.86      0.732\n\n      Epoch    GPU_mem   box_loss   cls_loss   dfl_loss  Instances       Size\n",
          "output_type": "stream"
        },
        {
          "name": "stderr",
          "text": "     18/128      8.59G      1.532      2.047      2.004          4        416: 100%|██████████| 66/66 [00:39<00:00,  1.67it/s]\n                 Class     Images  Instances      Box(P          R      mAP50  mAP50-95): 100%|██████████| 7/7 [00:04<00:00,  1.68it/s]\n",
          "output_type": "stream"
        },
        {
          "name": "stdout",
          "text": "                   all        801        944      0.891      0.797      0.859      0.724\n\n      Epoch    GPU_mem   box_loss   cls_loss   dfl_loss  Instances       Size\n",
          "output_type": "stream"
        },
        {
          "name": "stderr",
          "text": "     19/128      8.62G      1.509      2.011      2.002          7        416: 100%|██████████| 66/66 [00:39<00:00,  1.66it/s]\n                 Class     Images  Instances      Box(P          R      mAP50  mAP50-95): 100%|██████████| 7/7 [00:04<00:00,  1.67it/s]\n",
          "output_type": "stream"
        },
        {
          "name": "stdout",
          "text": "                   all        801        944      0.872      0.793       0.86      0.726\n\n      Epoch    GPU_mem   box_loss   cls_loss   dfl_loss  Instances       Size\n",
          "output_type": "stream"
        },
        {
          "name": "stderr",
          "text": "     20/128      8.59G      1.491      1.989      1.989         10        416: 100%|██████████| 66/66 [00:39<00:00,  1.67it/s]\n                 Class     Images  Instances      Box(P          R      mAP50  mAP50-95): 100%|██████████| 7/7 [00:04<00:00,  1.69it/s]\n",
          "output_type": "stream"
        },
        {
          "name": "stdout",
          "text": "                   all        801        944      0.906      0.793      0.877      0.746\n\n      Epoch    GPU_mem   box_loss   cls_loss   dfl_loss  Instances       Size\n",
          "output_type": "stream"
        },
        {
          "name": "stderr",
          "text": "     21/128      8.59G      1.518      1.951      2.003          8        416: 100%|██████████| 66/66 [00:39<00:00,  1.66it/s]\n                 Class     Images  Instances      Box(P          R      mAP50  mAP50-95): 100%|██████████| 7/7 [00:04<00:00,  1.71it/s]\n",
          "output_type": "stream"
        },
        {
          "name": "stdout",
          "text": "                   all        801        944      0.912      0.792       0.87      0.736\n\n      Epoch    GPU_mem   box_loss   cls_loss   dfl_loss  Instances       Size\n",
          "output_type": "stream"
        },
        {
          "name": "stderr",
          "text": "     22/128      8.58G      1.469       1.93       1.99          5        416: 100%|██████████| 66/66 [00:39<00:00,  1.66it/s]\n                 Class     Images  Instances      Box(P          R      mAP50  mAP50-95): 100%|██████████| 7/7 [00:04<00:00,  1.68it/s]\n",
          "output_type": "stream"
        },
        {
          "name": "stdout",
          "text": "                   all        801        944      0.903      0.797       0.87      0.746\n\n      Epoch    GPU_mem   box_loss   cls_loss   dfl_loss  Instances       Size\n",
          "output_type": "stream"
        },
        {
          "name": "stderr",
          "text": "     23/128      8.59G      1.469      1.914       1.99          9        416: 100%|██████████| 66/66 [00:39<00:00,  1.67it/s]\n                 Class     Images  Instances      Box(P          R      mAP50  mAP50-95): 100%|██████████| 7/7 [00:04<00:00,  1.70it/s]\n",
          "output_type": "stream"
        },
        {
          "name": "stdout",
          "text": "                   all        801        944      0.866      0.771      0.852      0.729\n\n      Epoch    GPU_mem   box_loss   cls_loss   dfl_loss  Instances       Size\n",
          "output_type": "stream"
        },
        {
          "name": "stderr",
          "text": "     24/128      8.62G      1.486      1.905      1.994         14        416: 100%|██████████| 66/66 [00:39<00:00,  1.66it/s]\n                 Class     Images  Instances      Box(P          R      mAP50  mAP50-95): 100%|██████████| 7/7 [00:04<00:00,  1.64it/s]\n",
          "output_type": "stream"
        },
        {
          "name": "stdout",
          "text": "                   all        801        944      0.905       0.79      0.877      0.754\n\n      Epoch    GPU_mem   box_loss   cls_loss   dfl_loss  Instances       Size\n",
          "output_type": "stream"
        },
        {
          "name": "stderr",
          "text": "     25/128      8.58G      1.469      1.881      1.983          8        416: 100%|██████████| 66/66 [00:39<00:00,  1.67it/s]\n                 Class     Images  Instances      Box(P          R      mAP50  mAP50-95): 100%|██████████| 7/7 [00:04<00:00,  1.70it/s]\n",
          "output_type": "stream"
        },
        {
          "name": "stdout",
          "text": "                   all        801        944      0.915      0.814      0.895      0.765\n\n      Epoch    GPU_mem   box_loss   cls_loss   dfl_loss  Instances       Size\n",
          "output_type": "stream"
        },
        {
          "name": "stderr",
          "text": "     26/128      8.59G      1.454       1.87       1.98          8        416: 100%|██████████| 66/66 [00:39<00:00,  1.66it/s]\n                 Class     Images  Instances      Box(P          R      mAP50  mAP50-95): 100%|██████████| 7/7 [00:04<00:00,  1.65it/s]\n",
          "output_type": "stream"
        },
        {
          "name": "stdout",
          "text": "                   all        801        944      0.924      0.812      0.891      0.762\n\n      Epoch    GPU_mem   box_loss   cls_loss   dfl_loss  Instances       Size\n",
          "output_type": "stream"
        },
        {
          "name": "stderr",
          "text": "     27/128      8.58G       1.42      1.803      1.971         10        416: 100%|██████████| 66/66 [00:39<00:00,  1.66it/s]\n                 Class     Images  Instances      Box(P          R      mAP50  mAP50-95): 100%|██████████| 7/7 [00:04<00:00,  1.69it/s]",
          "output_type": "stream"
        },
        {
          "name": "stdout",
          "text": "                   all        801        944      0.896      0.823      0.887      0.755\n",
          "output_type": "stream"
        },
        {
          "name": "stderr",
          "text": "\n",
          "output_type": "stream"
        },
        {
          "name": "stdout",
          "text": "\n      Epoch    GPU_mem   box_loss   cls_loss   dfl_loss  Instances       Size\n",
          "output_type": "stream"
        },
        {
          "name": "stderr",
          "text": "     28/128      8.61G      1.473      1.851      1.978         13        416: 100%|██████████| 66/66 [00:39<00:00,  1.67it/s]\n                 Class     Images  Instances      Box(P          R      mAP50  mAP50-95): 100%|██████████| 7/7 [00:04<00:00,  1.68it/s]",
          "output_type": "stream"
        },
        {
          "name": "stdout",
          "text": "                   all        801        944      0.898      0.821      0.891      0.763\n",
          "output_type": "stream"
        },
        {
          "name": "stderr",
          "text": "\n",
          "output_type": "stream"
        },
        {
          "name": "stdout",
          "text": "\n      Epoch    GPU_mem   box_loss   cls_loss   dfl_loss  Instances       Size\n",
          "output_type": "stream"
        },
        {
          "name": "stderr",
          "text": "     29/128      8.59G      1.423      1.762      1.958         10        416: 100%|██████████| 66/66 [00:39<00:00,  1.66it/s]\n                 Class     Images  Instances      Box(P          R      mAP50  mAP50-95): 100%|██████████| 7/7 [00:04<00:00,  1.68it/s]\n",
          "output_type": "stream"
        },
        {
          "name": "stdout",
          "text": "                   all        801        944      0.917      0.811      0.894      0.761\n\n      Epoch    GPU_mem   box_loss   cls_loss   dfl_loss  Instances       Size\n",
          "output_type": "stream"
        },
        {
          "name": "stderr",
          "text": "     30/128      8.59G      1.431      1.758      1.976          9        416: 100%|██████████| 66/66 [00:39<00:00,  1.66it/s]\n                 Class     Images  Instances      Box(P          R      mAP50  mAP50-95): 100%|██████████| 7/7 [00:04<00:00,  1.67it/s]\n",
          "output_type": "stream"
        },
        {
          "name": "stdout",
          "text": "                   all        801        944      0.928      0.805      0.885      0.751\n\n      Epoch    GPU_mem   box_loss   cls_loss   dfl_loss  Instances       Size\n",
          "output_type": "stream"
        },
        {
          "name": "stderr",
          "text": "     31/128      8.58G      1.397      1.783      1.949          7        416: 100%|██████████| 66/66 [00:39<00:00,  1.66it/s]\n                 Class     Images  Instances      Box(P          R      mAP50  mAP50-95): 100%|██████████| 7/7 [00:04<00:00,  1.71it/s]\n",
          "output_type": "stream"
        },
        {
          "name": "stdout",
          "text": "                   all        801        944      0.942      0.804      0.899      0.764\n\n      Epoch    GPU_mem   box_loss   cls_loss   dfl_loss  Instances       Size\n",
          "output_type": "stream"
        },
        {
          "name": "stderr",
          "text": "     32/128      8.58G      1.404      1.749      1.954         17        416: 100%|██████████| 66/66 [00:39<00:00,  1.66it/s]\n                 Class     Images  Instances      Box(P          R      mAP50  mAP50-95): 100%|██████████| 7/7 [00:04<00:00,  1.69it/s]\n",
          "output_type": "stream"
        },
        {
          "name": "stdout",
          "text": "                   all        801        944      0.946      0.796      0.896      0.759\n\n      Epoch    GPU_mem   box_loss   cls_loss   dfl_loss  Instances       Size\n",
          "output_type": "stream"
        },
        {
          "name": "stderr",
          "text": "     33/128      8.59G      1.407      1.731      1.954         10        416: 100%|██████████| 66/66 [00:39<00:00,  1.66it/s]\n                 Class     Images  Instances      Box(P          R      mAP50  mAP50-95): 100%|██████████| 7/7 [00:04<00:00,  1.71it/s]\n",
          "output_type": "stream"
        },
        {
          "name": "stdout",
          "text": "                   all        801        944      0.931      0.807        0.9      0.766\n\n      Epoch    GPU_mem   box_loss   cls_loss   dfl_loss  Instances       Size\n",
          "output_type": "stream"
        },
        {
          "name": "stderr",
          "text": "     34/128      8.59G      1.408      1.707      1.947         10        416: 100%|██████████| 66/66 [00:39<00:00,  1.66it/s]\n                 Class     Images  Instances      Box(P          R      mAP50  mAP50-95): 100%|██████████| 7/7 [00:04<00:00,  1.72it/s]\n",
          "output_type": "stream"
        },
        {
          "name": "stdout",
          "text": "                   all        801        944      0.918      0.835      0.896      0.766\n\n      Epoch    GPU_mem   box_loss   cls_loss   dfl_loss  Instances       Size\n",
          "output_type": "stream"
        },
        {
          "name": "stderr",
          "text": "     35/128      8.58G      1.394      1.721      1.957          8        416: 100%|██████████| 66/66 [00:39<00:00,  1.66it/s]\n                 Class     Images  Instances      Box(P          R      mAP50  mAP50-95): 100%|██████████| 7/7 [00:04<00:00,  1.70it/s]",
          "output_type": "stream"
        },
        {
          "name": "stdout",
          "text": "                   all        801        944      0.908      0.835      0.897      0.773\n",
          "output_type": "stream"
        },
        {
          "name": "stderr",
          "text": "\n",
          "output_type": "stream"
        },
        {
          "name": "stdout",
          "text": "\n      Epoch    GPU_mem   box_loss   cls_loss   dfl_loss  Instances       Size\n",
          "output_type": "stream"
        },
        {
          "name": "stderr",
          "text": "     36/128      8.59G      1.388      1.669      1.939         16        416: 100%|██████████| 66/66 [00:39<00:00,  1.67it/s]\n                 Class     Images  Instances      Box(P          R      mAP50  mAP50-95): 100%|██████████| 7/7 [00:04<00:00,  1.67it/s]\n",
          "output_type": "stream"
        },
        {
          "name": "stdout",
          "text": "                   all        801        944      0.921      0.816        0.9      0.776\n\n      Epoch    GPU_mem   box_loss   cls_loss   dfl_loss  Instances       Size\n",
          "output_type": "stream"
        },
        {
          "name": "stderr",
          "text": "     37/128      8.58G      1.376      1.644      1.939          8        416: 100%|██████████| 66/66 [00:39<00:00,  1.66it/s]\n                 Class     Images  Instances      Box(P          R      mAP50  mAP50-95): 100%|██████████| 7/7 [00:04<00:00,  1.72it/s]\n",
          "output_type": "stream"
        },
        {
          "name": "stdout",
          "text": "                   all        801        944      0.941      0.822       0.91      0.786\n\n      Epoch    GPU_mem   box_loss   cls_loss   dfl_loss  Instances       Size\n",
          "output_type": "stream"
        },
        {
          "name": "stderr",
          "text": "     38/128      8.58G      1.358      1.618      1.937          7        416: 100%|██████████| 66/66 [00:39<00:00,  1.67it/s]\n                 Class     Images  Instances      Box(P          R      mAP50  mAP50-95): 100%|██████████| 7/7 [00:04<00:00,  1.69it/s]\n",
          "output_type": "stream"
        },
        {
          "name": "stdout",
          "text": "                   all        801        944      0.938      0.801      0.899      0.765\n\n      Epoch    GPU_mem   box_loss   cls_loss   dfl_loss  Instances       Size\n",
          "output_type": "stream"
        },
        {
          "name": "stderr",
          "text": "     39/128      8.58G      1.361      1.623      1.931         11        416: 100%|██████████| 66/66 [00:39<00:00,  1.66it/s]\n                 Class     Images  Instances      Box(P          R      mAP50  mAP50-95): 100%|██████████| 7/7 [00:04<00:00,  1.71it/s]\n",
          "output_type": "stream"
        },
        {
          "name": "stdout",
          "text": "                   all        801        944      0.924      0.821      0.903      0.781\n\n      Epoch    GPU_mem   box_loss   cls_loss   dfl_loss  Instances       Size\n",
          "output_type": "stream"
        },
        {
          "name": "stderr",
          "text": "     40/128      8.59G      1.366      1.625      1.927         13        416: 100%|██████████| 66/66 [00:39<00:00,  1.66it/s]\n                 Class     Images  Instances      Box(P          R      mAP50  mAP50-95): 100%|██████████| 7/7 [00:04<00:00,  1.72it/s]\n",
          "output_type": "stream"
        },
        {
          "name": "stdout",
          "text": "                   all        801        944      0.945      0.809      0.913      0.783\n\n      Epoch    GPU_mem   box_loss   cls_loss   dfl_loss  Instances       Size\n",
          "output_type": "stream"
        },
        {
          "name": "stderr",
          "text": "     41/128      8.58G      1.341      1.567      1.927         13        416: 100%|██████████| 66/66 [00:39<00:00,  1.66it/s]\n                 Class     Images  Instances      Box(P          R      mAP50  mAP50-95): 100%|██████████| 7/7 [00:04<00:00,  1.65it/s]\n",
          "output_type": "stream"
        },
        {
          "name": "stdout",
          "text": "                   all        801        944      0.886      0.844      0.895      0.773\n\n      Epoch    GPU_mem   box_loss   cls_loss   dfl_loss  Instances       Size\n",
          "output_type": "stream"
        },
        {
          "name": "stderr",
          "text": "     42/128      8.61G      1.323       1.57       1.92          8        416: 100%|██████████| 66/66 [00:39<00:00,  1.66it/s]\n                 Class     Images  Instances      Box(P          R      mAP50  mAP50-95): 100%|██████████| 7/7 [00:04<00:00,  1.71it/s]",
          "output_type": "stream"
        },
        {
          "name": "stdout",
          "text": "                   all        801        944      0.912      0.818      0.898      0.776\n",
          "output_type": "stream"
        },
        {
          "name": "stderr",
          "text": "\n",
          "output_type": "stream"
        },
        {
          "name": "stdout",
          "text": "\n      Epoch    GPU_mem   box_loss   cls_loss   dfl_loss  Instances       Size\n",
          "output_type": "stream"
        },
        {
          "name": "stderr",
          "text": "     43/128      8.59G      1.338      1.572       1.92         12        416: 100%|██████████| 66/66 [00:39<00:00,  1.66it/s]\n                 Class     Images  Instances      Box(P          R      mAP50  mAP50-95): 100%|██████████| 7/7 [00:04<00:00,  1.69it/s]\n",
          "output_type": "stream"
        },
        {
          "name": "stdout",
          "text": "                   all        801        944      0.913      0.822      0.903      0.775\n\n      Epoch    GPU_mem   box_loss   cls_loss   dfl_loss  Instances       Size\n",
          "output_type": "stream"
        },
        {
          "name": "stderr",
          "text": "     44/128      8.59G      1.324      1.522      1.914          6        416: 100%|██████████| 66/66 [00:39<00:00,  1.66it/s]\n                 Class     Images  Instances      Box(P          R      mAP50  mAP50-95): 100%|██████████| 7/7 [00:04<00:00,  1.72it/s]\n",
          "output_type": "stream"
        },
        {
          "name": "stdout",
          "text": "                   all        801        944       0.92      0.845      0.916      0.784\n\n      Epoch    GPU_mem   box_loss   cls_loss   dfl_loss  Instances       Size\n",
          "output_type": "stream"
        },
        {
          "name": "stderr",
          "text": "     45/128      8.59G      1.326       1.55      1.916          7        416: 100%|██████████| 66/66 [00:39<00:00,  1.66it/s]\n                 Class     Images  Instances      Box(P          R      mAP50  mAP50-95): 100%|██████████| 7/7 [00:04<00:00,  1.68it/s]\n",
          "output_type": "stream"
        },
        {
          "name": "stdout",
          "text": "                   all        801        944      0.931      0.843      0.917      0.794\n\n      Epoch    GPU_mem   box_loss   cls_loss   dfl_loss  Instances       Size\n",
          "output_type": "stream"
        },
        {
          "name": "stderr",
          "text": "     46/128      8.59G       1.32      1.541      1.909         10        416: 100%|██████████| 66/66 [00:39<00:00,  1.66it/s]\n                 Class     Images  Instances      Box(P          R      mAP50  mAP50-95): 100%|██████████| 7/7 [00:04<00:00,  1.61it/s]\n",
          "output_type": "stream"
        },
        {
          "name": "stdout",
          "text": "                   all        801        944      0.934      0.835      0.912      0.788\n\n      Epoch    GPU_mem   box_loss   cls_loss   dfl_loss  Instances       Size\n",
          "output_type": "stream"
        },
        {
          "name": "stderr",
          "text": "     47/128      8.58G      1.306      1.483      1.909         10        416: 100%|██████████| 66/66 [00:39<00:00,  1.66it/s]\n                 Class     Images  Instances      Box(P          R      mAP50  mAP50-95): 100%|██████████| 7/7 [00:04<00:00,  1.70it/s]",
          "output_type": "stream"
        },
        {
          "name": "stdout",
          "text": "                   all        801        944      0.951      0.824      0.914      0.793\n",
          "output_type": "stream"
        },
        {
          "name": "stderr",
          "text": "\n",
          "output_type": "stream"
        },
        {
          "name": "stdout",
          "text": "\n      Epoch    GPU_mem   box_loss   cls_loss   dfl_loss  Instances       Size\n",
          "output_type": "stream"
        },
        {
          "name": "stderr",
          "text": "     48/128      8.58G      1.289      1.468      1.895          9        416: 100%|██████████| 66/66 [00:39<00:00,  1.67it/s]\n                 Class     Images  Instances      Box(P          R      mAP50  mAP50-95): 100%|██████████| 7/7 [00:04<00:00,  1.67it/s]",
          "output_type": "stream"
        },
        {
          "name": "stdout",
          "text": "                   all        801        944      0.929      0.835      0.917      0.792\n",
          "output_type": "stream"
        },
        {
          "name": "stderr",
          "text": "\n",
          "output_type": "stream"
        },
        {
          "name": "stdout",
          "text": "\n      Epoch    GPU_mem   box_loss   cls_loss   dfl_loss  Instances       Size\n",
          "output_type": "stream"
        },
        {
          "name": "stderr",
          "text": "     49/128      8.59G       1.27      1.427      1.911         10        416: 100%|██████████| 66/66 [00:39<00:00,  1.66it/s]\n                 Class     Images  Instances      Box(P          R      mAP50  mAP50-95): 100%|██████████| 7/7 [00:04<00:00,  1.69it/s]",
          "output_type": "stream"
        },
        {
          "name": "stdout",
          "text": "                   all        801        944      0.913      0.831      0.905      0.785\n",
          "output_type": "stream"
        },
        {
          "name": "stderr",
          "text": "\n",
          "output_type": "stream"
        },
        {
          "name": "stdout",
          "text": "\n      Epoch    GPU_mem   box_loss   cls_loss   dfl_loss  Instances       Size\n",
          "output_type": "stream"
        },
        {
          "name": "stderr",
          "text": "     50/128      8.61G      1.278       1.49      1.907          4        416: 100%|██████████| 66/66 [00:39<00:00,  1.67it/s]\n                 Class     Images  Instances      Box(P          R      mAP50  mAP50-95): 100%|██████████| 7/7 [00:04<00:00,  1.69it/s]",
          "output_type": "stream"
        },
        {
          "name": "stdout",
          "text": "                   all        801        944      0.955      0.817      0.915      0.791\n",
          "output_type": "stream"
        },
        {
          "name": "stderr",
          "text": "\n",
          "output_type": "stream"
        },
        {
          "name": "stdout",
          "text": "\n      Epoch    GPU_mem   box_loss   cls_loss   dfl_loss  Instances       Size\n",
          "output_type": "stream"
        },
        {
          "name": "stderr",
          "text": "     51/128      8.59G      1.282       1.49       1.91         12        416: 100%|██████████| 66/66 [00:39<00:00,  1.66it/s]\n                 Class     Images  Instances      Box(P          R      mAP50  mAP50-95): 100%|██████████| 7/7 [00:04<00:00,  1.72it/s]",
          "output_type": "stream"
        },
        {
          "name": "stdout",
          "text": "                   all        801        944      0.933      0.846      0.917      0.793\n",
          "output_type": "stream"
        },
        {
          "name": "stderr",
          "text": "\n",
          "output_type": "stream"
        },
        {
          "name": "stdout",
          "text": "\n      Epoch    GPU_mem   box_loss   cls_loss   dfl_loss  Instances       Size\n",
          "output_type": "stream"
        },
        {
          "name": "stderr",
          "text": "     52/128      8.62G      1.291      1.433      1.898          6        416: 100%|██████████| 66/66 [00:39<00:00,  1.67it/s]\n                 Class     Images  Instances      Box(P          R      mAP50  mAP50-95): 100%|██████████| 7/7 [00:04<00:00,  1.68it/s]\n",
          "output_type": "stream"
        },
        {
          "name": "stdout",
          "text": "                   all        801        944      0.923      0.838       0.92      0.788\n\n      Epoch    GPU_mem   box_loss   cls_loss   dfl_loss  Instances       Size\n",
          "output_type": "stream"
        },
        {
          "name": "stderr",
          "text": "     53/128      8.59G      1.271      1.421      1.909          6        416: 100%|██████████| 66/66 [00:39<00:00,  1.66it/s]\n                 Class     Images  Instances      Box(P          R      mAP50  mAP50-95): 100%|██████████| 7/7 [00:04<00:00,  1.69it/s]\n",
          "output_type": "stream"
        },
        {
          "name": "stdout",
          "text": "                   all        801        944      0.939      0.837      0.922      0.798\n\n      Epoch    GPU_mem   box_loss   cls_loss   dfl_loss  Instances       Size\n",
          "output_type": "stream"
        },
        {
          "name": "stderr",
          "text": "     54/128      8.59G      1.302      1.453      1.919          6        416: 100%|██████████| 66/66 [00:39<00:00,  1.66it/s]\n                 Class     Images  Instances      Box(P          R      mAP50  mAP50-95): 100%|██████████| 7/7 [00:04<00:00,  1.69it/s]",
          "output_type": "stream"
        },
        {
          "name": "stdout",
          "text": "                   all        801        944      0.916      0.856      0.917      0.795\n",
          "output_type": "stream"
        },
        {
          "name": "stderr",
          "text": "\n",
          "output_type": "stream"
        },
        {
          "name": "stdout",
          "text": "\n      Epoch    GPU_mem   box_loss   cls_loss   dfl_loss  Instances       Size\n",
          "output_type": "stream"
        },
        {
          "name": "stderr",
          "text": "     55/128      8.59G      1.257      1.417       1.89          7        416: 100%|██████████| 66/66 [00:39<00:00,  1.66it/s]\n                 Class     Images  Instances      Box(P          R      mAP50  mAP50-95): 100%|██████████| 7/7 [00:04<00:00,  1.69it/s]",
          "output_type": "stream"
        },
        {
          "name": "stdout",
          "text": "                   all        801        944       0.92      0.846      0.919      0.801\n",
          "output_type": "stream"
        },
        {
          "name": "stderr",
          "text": "\n",
          "output_type": "stream"
        },
        {
          "name": "stdout",
          "text": "\n      Epoch    GPU_mem   box_loss   cls_loss   dfl_loss  Instances       Size\n",
          "output_type": "stream"
        },
        {
          "name": "stderr",
          "text": "     56/128      8.59G      1.295      1.442      1.903         10        416: 100%|██████████| 66/66 [00:39<00:00,  1.66it/s]\n                 Class     Images  Instances      Box(P          R      mAP50  mAP50-95): 100%|██████████| 7/7 [00:04<00:00,  1.68it/s]\n",
          "output_type": "stream"
        },
        {
          "name": "stdout",
          "text": "                   all        801        944      0.931      0.841      0.919      0.791\n\n      Epoch    GPU_mem   box_loss   cls_loss   dfl_loss  Instances       Size\n",
          "output_type": "stream"
        },
        {
          "name": "stderr",
          "text": "     57/128      8.59G      1.266      1.401      1.897         10        416: 100%|██████████| 66/66 [00:39<00:00,  1.66it/s]\n                 Class     Images  Instances      Box(P          R      mAP50  mAP50-95): 100%|██████████| 7/7 [00:04<00:00,  1.67it/s]\n",
          "output_type": "stream"
        },
        {
          "name": "stdout",
          "text": "                   all        801        944      0.903      0.857      0.916      0.796\n\n      Epoch    GPU_mem   box_loss   cls_loss   dfl_loss  Instances       Size\n",
          "output_type": "stream"
        },
        {
          "name": "stderr",
          "text": "     58/128      8.59G      1.244      1.339      1.897         10        416: 100%|██████████| 66/66 [00:39<00:00,  1.66it/s]\n                 Class     Images  Instances      Box(P          R      mAP50  mAP50-95): 100%|██████████| 7/7 [00:04<00:00,  1.60it/s]\n",
          "output_type": "stream"
        },
        {
          "name": "stdout",
          "text": "                   all        801        944      0.928      0.853      0.919      0.799\n\n      Epoch    GPU_mem   box_loss   cls_loss   dfl_loss  Instances       Size\n",
          "output_type": "stream"
        },
        {
          "name": "stderr",
          "text": "     59/128      8.59G      1.278      1.414      1.904         15        416: 100%|██████████| 66/66 [00:39<00:00,  1.66it/s]\n                 Class     Images  Instances      Box(P          R      mAP50  mAP50-95): 100%|██████████| 7/7 [00:04<00:00,  1.71it/s]\n",
          "output_type": "stream"
        },
        {
          "name": "stdout",
          "text": "                   all        801        944      0.934      0.846      0.927        0.8\n\n      Epoch    GPU_mem   box_loss   cls_loss   dfl_loss  Instances       Size\n",
          "output_type": "stream"
        },
        {
          "name": "stderr",
          "text": "     60/128      8.61G      1.267      1.384      1.904         10        416: 100%|██████████| 66/66 [00:39<00:00,  1.66it/s]\n                 Class     Images  Instances      Box(P          R      mAP50  mAP50-95): 100%|██████████| 7/7 [00:04<00:00,  1.68it/s]",
          "output_type": "stream"
        },
        {
          "name": "stdout",
          "text": "                   all        801        944      0.896      0.867       0.92      0.797\n",
          "output_type": "stream"
        },
        {
          "name": "stderr",
          "text": "\n",
          "output_type": "stream"
        },
        {
          "name": "stdout",
          "text": "\n      Epoch    GPU_mem   box_loss   cls_loss   dfl_loss  Instances       Size\n",
          "output_type": "stream"
        },
        {
          "name": "stderr",
          "text": "     61/128      8.59G      1.255      1.379      1.895         11        416: 100%|██████████| 66/66 [00:39<00:00,  1.66it/s]\n                 Class     Images  Instances      Box(P          R      mAP50  mAP50-95): 100%|██████████| 7/7 [00:04<00:00,  1.71it/s]\n",
          "output_type": "stream"
        },
        {
          "name": "stdout",
          "text": "                   all        801        944      0.941      0.849      0.926      0.799\n\n      Epoch    GPU_mem   box_loss   cls_loss   dfl_loss  Instances       Size\n",
          "output_type": "stream"
        },
        {
          "name": "stderr",
          "text": "     62/128      8.59G      1.248      1.352      1.891         11        416: 100%|██████████| 66/66 [00:39<00:00,  1.66it/s]\n                 Class     Images  Instances      Box(P          R      mAP50  mAP50-95): 100%|██████████| 7/7 [00:04<00:00,  1.66it/s]\n",
          "output_type": "stream"
        },
        {
          "name": "stdout",
          "text": "                   all        801        944      0.901      0.868      0.925      0.798\n\n      Epoch    GPU_mem   box_loss   cls_loss   dfl_loss  Instances       Size\n",
          "output_type": "stream"
        },
        {
          "name": "stderr",
          "text": "     63/128      8.59G      1.238      1.312      1.889         11        416: 100%|██████████| 66/66 [00:39<00:00,  1.66it/s]\n                 Class     Images  Instances      Box(P          R      mAP50  mAP50-95): 100%|██████████| 7/7 [00:04<00:00,  1.64it/s]",
          "output_type": "stream"
        },
        {
          "name": "stdout",
          "text": "                   all        801        944      0.934      0.851      0.922      0.797\n",
          "output_type": "stream"
        },
        {
          "name": "stderr",
          "text": "\n",
          "output_type": "stream"
        },
        {
          "name": "stdout",
          "text": "\n      Epoch    GPU_mem   box_loss   cls_loss   dfl_loss  Instances       Size\n",
          "output_type": "stream"
        },
        {
          "name": "stderr",
          "text": "     64/128      8.58G      1.244      1.353      1.897         10        416: 100%|██████████| 66/66 [00:40<00:00,  1.65it/s]\n                 Class     Images  Instances      Box(P          R      mAP50  mAP50-95): 100%|██████████| 7/7 [00:04<00:00,  1.69it/s]",
          "output_type": "stream"
        },
        {
          "name": "stdout",
          "text": "                   all        801        944      0.929      0.846      0.922        0.8\n",
          "output_type": "stream"
        },
        {
          "name": "stderr",
          "text": "\n",
          "output_type": "stream"
        },
        {
          "name": "stdout",
          "text": "\n      Epoch    GPU_mem   box_loss   cls_loss   dfl_loss  Instances       Size\n",
          "output_type": "stream"
        },
        {
          "name": "stderr",
          "text": "     65/128      8.62G      1.215      1.299      1.875         10        416: 100%|██████████| 66/66 [00:39<00:00,  1.66it/s]\n                 Class     Images  Instances      Box(P          R      mAP50  mAP50-95): 100%|██████████| 7/7 [00:04<00:00,  1.71it/s]\n",
          "output_type": "stream"
        },
        {
          "name": "stdout",
          "text": "                   all        801        944      0.936      0.849      0.925      0.802\n\n      Epoch    GPU_mem   box_loss   cls_loss   dfl_loss  Instances       Size\n",
          "output_type": "stream"
        },
        {
          "name": "stderr",
          "text": "     66/128      8.59G      1.237      1.342      1.885          7        416: 100%|██████████| 66/66 [00:39<00:00,  1.66it/s]\n                 Class     Images  Instances      Box(P          R      mAP50  mAP50-95): 100%|██████████| 7/7 [00:04<00:00,  1.68it/s]\n",
          "output_type": "stream"
        },
        {
          "name": "stdout",
          "text": "                   all        801        944      0.907      0.884       0.93      0.806\n\n      Epoch    GPU_mem   box_loss   cls_loss   dfl_loss  Instances       Size\n",
          "output_type": "stream"
        },
        {
          "name": "stderr",
          "text": "     67/128      8.58G      1.205      1.284      1.879          8        416: 100%|██████████| 66/66 [00:39<00:00,  1.65it/s]\n                 Class     Images  Instances      Box(P          R      mAP50  mAP50-95): 100%|██████████| 7/7 [00:04<00:00,  1.71it/s]",
          "output_type": "stream"
        },
        {
          "name": "stdout",
          "text": "                   all        801        944      0.935      0.857      0.919      0.797\n",
          "output_type": "stream"
        },
        {
          "name": "stderr",
          "text": "\n",
          "output_type": "stream"
        },
        {
          "name": "stdout",
          "text": "\n      Epoch    GPU_mem   box_loss   cls_loss   dfl_loss  Instances       Size\n",
          "output_type": "stream"
        },
        {
          "name": "stderr",
          "text": "     68/128      8.58G      1.228      1.314      1.893         11        416: 100%|██████████| 66/66 [00:39<00:00,  1.65it/s]\n                 Class     Images  Instances      Box(P          R      mAP50  mAP50-95): 100%|██████████| 7/7 [00:04<00:00,  1.66it/s]\n",
          "output_type": "stream"
        },
        {
          "name": "stdout",
          "text": "                   all        801        944      0.935      0.844      0.922      0.801\n\n      Epoch    GPU_mem   box_loss   cls_loss   dfl_loss  Instances       Size\n",
          "output_type": "stream"
        },
        {
          "name": "stderr",
          "text": "     69/128      8.58G      1.235      1.307      1.888         10        416: 100%|██████████| 66/66 [00:39<00:00,  1.66it/s]\n                 Class     Images  Instances      Box(P          R      mAP50  mAP50-95): 100%|██████████| 7/7 [00:04<00:00,  1.71it/s]",
          "output_type": "stream"
        },
        {
          "name": "stdout",
          "text": "                   all        801        944      0.933      0.845      0.925      0.802\n",
          "output_type": "stream"
        },
        {
          "name": "stderr",
          "text": "\n",
          "output_type": "stream"
        },
        {
          "name": "stdout",
          "text": "\n      Epoch    GPU_mem   box_loss   cls_loss   dfl_loss  Instances       Size\n",
          "output_type": "stream"
        },
        {
          "name": "stderr",
          "text": "     70/128      8.58G      1.183      1.249      1.866          6        416: 100%|██████████| 66/66 [00:39<00:00,  1.67it/s]\n                 Class     Images  Instances      Box(P          R      mAP50  mAP50-95): 100%|██████████| 7/7 [00:04<00:00,  1.61it/s]",
          "output_type": "stream"
        },
        {
          "name": "stdout",
          "text": "                   all        801        944       0.93      0.854      0.926      0.806\n",
          "output_type": "stream"
        },
        {
          "name": "stderr",
          "text": "\n",
          "output_type": "stream"
        },
        {
          "name": "stdout",
          "text": "\n      Epoch    GPU_mem   box_loss   cls_loss   dfl_loss  Instances       Size\n",
          "output_type": "stream"
        },
        {
          "name": "stderr",
          "text": "     71/128      8.59G      1.219      1.271      1.881         10        416: 100%|██████████| 66/66 [00:39<00:00,  1.66it/s]\n                 Class     Images  Instances      Box(P          R      mAP50  mAP50-95): 100%|██████████| 7/7 [00:04<00:00,  1.68it/s]",
          "output_type": "stream"
        },
        {
          "name": "stdout",
          "text": "                   all        801        944       0.93      0.865      0.929      0.805\n",
          "output_type": "stream"
        },
        {
          "name": "stderr",
          "text": "\n",
          "output_type": "stream"
        },
        {
          "name": "stdout",
          "text": "\n      Epoch    GPU_mem   box_loss   cls_loss   dfl_loss  Instances       Size\n",
          "output_type": "stream"
        },
        {
          "name": "stderr",
          "text": "     72/128      8.59G        1.2      1.252      1.875          8        416: 100%|██████████| 66/66 [00:39<00:00,  1.66it/s]\n                 Class     Images  Instances      Box(P          R      mAP50  mAP50-95): 100%|██████████| 7/7 [00:04<00:00,  1.72it/s]\n",
          "output_type": "stream"
        },
        {
          "name": "stdout",
          "text": "                   all        801        944      0.921      0.858      0.929      0.805\n\n      Epoch    GPU_mem   box_loss   cls_loss   dfl_loss  Instances       Size\n",
          "output_type": "stream"
        },
        {
          "name": "stderr",
          "text": "     73/128      8.59G      1.196      1.247      1.869         11        416: 100%|██████████| 66/66 [00:39<00:00,  1.66it/s]\n                 Class     Images  Instances      Box(P          R      mAP50  mAP50-95): 100%|██████████| 7/7 [00:04<00:00,  1.74it/s]",
          "output_type": "stream"
        },
        {
          "name": "stdout",
          "text": "                   all        801        944      0.914      0.876      0.929      0.805\n",
          "output_type": "stream"
        },
        {
          "name": "stderr",
          "text": "\n",
          "output_type": "stream"
        },
        {
          "name": "stdout",
          "text": "\n      Epoch    GPU_mem   box_loss   cls_loss   dfl_loss  Instances       Size\n",
          "output_type": "stream"
        },
        {
          "name": "stderr",
          "text": "     74/128      8.59G      1.186      1.202      1.872          7        416: 100%|██████████| 66/66 [00:39<00:00,  1.66it/s]\n                 Class     Images  Instances      Box(P          R      mAP50  mAP50-95): 100%|██████████| 7/7 [00:04<00:00,  1.71it/s]",
          "output_type": "stream"
        },
        {
          "name": "stdout",
          "text": "                   all        801        944       0.93      0.868      0.935      0.809\n",
          "output_type": "stream"
        },
        {
          "name": "stderr",
          "text": "\n",
          "output_type": "stream"
        },
        {
          "name": "stdout",
          "text": "\n      Epoch    GPU_mem   box_loss   cls_loss   dfl_loss  Instances       Size\n",
          "output_type": "stream"
        },
        {
          "name": "stderr",
          "text": "     75/128      8.59G      1.177      1.207      1.866         12        416: 100%|██████████| 66/66 [00:39<00:00,  1.66it/s]\n                 Class     Images  Instances      Box(P          R      mAP50  mAP50-95): 100%|██████████| 7/7 [00:04<00:00,  1.65it/s]\n",
          "output_type": "stream"
        },
        {
          "name": "stdout",
          "text": "                   all        801        944      0.963       0.84       0.93      0.807\n\n      Epoch    GPU_mem   box_loss   cls_loss   dfl_loss  Instances       Size\n",
          "output_type": "stream"
        },
        {
          "name": "stderr",
          "text": "     76/128      8.58G      1.194      1.209      1.872          9        416: 100%|██████████| 66/66 [00:39<00:00,  1.66it/s]\n                 Class     Images  Instances      Box(P          R      mAP50  mAP50-95): 100%|██████████| 7/7 [00:04<00:00,  1.70it/s]",
          "output_type": "stream"
        },
        {
          "name": "stdout",
          "text": "                   all        801        944      0.936      0.865      0.933      0.811\n",
          "output_type": "stream"
        },
        {
          "name": "stderr",
          "text": "\n",
          "output_type": "stream"
        },
        {
          "name": "stdout",
          "text": "\n      Epoch    GPU_mem   box_loss   cls_loss   dfl_loss  Instances       Size\n",
          "output_type": "stream"
        },
        {
          "name": "stderr",
          "text": "     77/128      8.58G      1.185      1.216       1.86         12        416: 100%|██████████| 66/66 [00:39<00:00,  1.66it/s]\n                 Class     Images  Instances      Box(P          R      mAP50  mAP50-95): 100%|██████████| 7/7 [00:04<00:00,  1.69it/s]\n",
          "output_type": "stream"
        },
        {
          "name": "stdout",
          "text": "                   all        801        944      0.937      0.862       0.93      0.813\n\n      Epoch    GPU_mem   box_loss   cls_loss   dfl_loss  Instances       Size\n",
          "output_type": "stream"
        },
        {
          "name": "stderr",
          "text": "     78/128      8.59G      1.163      1.182      1.856          8        416: 100%|██████████| 66/66 [00:39<00:00,  1.66it/s]\n                 Class     Images  Instances      Box(P          R      mAP50  mAP50-95): 100%|██████████| 7/7 [00:04<00:00,  1.68it/s]",
          "output_type": "stream"
        },
        {
          "name": "stdout",
          "text": "                   all        801        944      0.944      0.872      0.935      0.811\n",
          "output_type": "stream"
        },
        {
          "name": "stderr",
          "text": "\n",
          "output_type": "stream"
        },
        {
          "name": "stdout",
          "text": "\n      Epoch    GPU_mem   box_loss   cls_loss   dfl_loss  Instances       Size\n",
          "output_type": "stream"
        },
        {
          "name": "stderr",
          "text": "     79/128      8.59G      1.174      1.182      1.859          9        416: 100%|██████████| 66/66 [00:39<00:00,  1.66it/s]\n                 Class     Images  Instances      Box(P          R      mAP50  mAP50-95): 100%|██████████| 7/7 [00:04<00:00,  1.72it/s]",
          "output_type": "stream"
        },
        {
          "name": "stdout",
          "text": "                   all        801        944      0.947       0.86      0.931      0.806\n",
          "output_type": "stream"
        },
        {
          "name": "stderr",
          "text": "\n",
          "output_type": "stream"
        },
        {
          "name": "stdout",
          "text": "\n      Epoch    GPU_mem   box_loss   cls_loss   dfl_loss  Instances       Size\n",
          "output_type": "stream"
        },
        {
          "name": "stderr",
          "text": "     80/128      8.58G       1.17      1.165      1.856         13        416: 100%|██████████| 66/66 [00:39<00:00,  1.66it/s]\n                 Class     Images  Instances      Box(P          R      mAP50  mAP50-95): 100%|██████████| 7/7 [00:04<00:00,  1.69it/s]\n",
          "output_type": "stream"
        },
        {
          "name": "stdout",
          "text": "                   all        801        944      0.923      0.872      0.929      0.808\n\n      Epoch    GPU_mem   box_loss   cls_loss   dfl_loss  Instances       Size\n",
          "output_type": "stream"
        },
        {
          "name": "stderr",
          "text": "     81/128      8.59G      1.168      1.195       1.87         14        416: 100%|██████████| 66/66 [00:39<00:00,  1.67it/s]\n                 Class     Images  Instances      Box(P          R      mAP50  mAP50-95): 100%|██████████| 7/7 [00:04<00:00,  1.69it/s]\n",
          "output_type": "stream"
        },
        {
          "name": "stdout",
          "text": "                   all        801        944      0.936      0.859      0.929      0.805\n\n      Epoch    GPU_mem   box_loss   cls_loss   dfl_loss  Instances       Size\n",
          "output_type": "stream"
        },
        {
          "name": "stderr",
          "text": "     82/128      8.61G      1.164      1.152      1.864         16        416: 100%|██████████| 66/66 [00:39<00:00,  1.66it/s]\n                 Class     Images  Instances      Box(P          R      mAP50  mAP50-95): 100%|██████████| 7/7 [00:04<00:00,  1.66it/s]\n",
          "output_type": "stream"
        },
        {
          "name": "stdout",
          "text": "                   all        801        944      0.913      0.867      0.926      0.809\n\n      Epoch    GPU_mem   box_loss   cls_loss   dfl_loss  Instances       Size\n",
          "output_type": "stream"
        },
        {
          "name": "stderr",
          "text": "     83/128      8.59G      1.144      1.144      1.853         10        416: 100%|██████████| 66/66 [00:39<00:00,  1.65it/s]\n                 Class     Images  Instances      Box(P          R      mAP50  mAP50-95): 100%|██████████| 7/7 [00:04<00:00,  1.63it/s]\n",
          "output_type": "stream"
        },
        {
          "name": "stdout",
          "text": "                   all        801        944      0.933      0.874       0.93      0.812\n\n      Epoch    GPU_mem   box_loss   cls_loss   dfl_loss  Instances       Size\n",
          "output_type": "stream"
        },
        {
          "name": "stderr",
          "text": "     84/128      8.58G      1.154      1.171      1.857         15        416: 100%|██████████| 66/66 [00:39<00:00,  1.66it/s]\n                 Class     Images  Instances      Box(P          R      mAP50  mAP50-95): 100%|██████████| 7/7 [00:04<00:00,  1.65it/s]\n",
          "output_type": "stream"
        },
        {
          "name": "stdout",
          "text": "                   all        801        944      0.925      0.873      0.935      0.814\n\n      Epoch    GPU_mem   box_loss   cls_loss   dfl_loss  Instances       Size\n",
          "output_type": "stream"
        },
        {
          "name": "stderr",
          "text": "     85/128      8.59G      1.137      1.097      1.859         11        416: 100%|██████████| 66/66 [00:39<00:00,  1.65it/s]\n                 Class     Images  Instances      Box(P          R      mAP50  mAP50-95): 100%|██████████| 7/7 [00:04<00:00,  1.66it/s]",
          "output_type": "stream"
        },
        {
          "name": "stdout",
          "text": "                   all        801        944      0.951       0.86      0.931      0.811\n",
          "output_type": "stream"
        },
        {
          "name": "stderr",
          "text": "\n",
          "output_type": "stream"
        },
        {
          "name": "stdout",
          "text": "\n      Epoch    GPU_mem   box_loss   cls_loss   dfl_loss  Instances       Size\n",
          "output_type": "stream"
        },
        {
          "name": "stderr",
          "text": "     86/128      8.59G       1.14      1.137      1.856          6        416: 100%|██████████| 66/66 [00:39<00:00,  1.65it/s]\n                 Class     Images  Instances      Box(P          R      mAP50  mAP50-95): 100%|██████████| 7/7 [00:04<00:00,  1.68it/s]",
          "output_type": "stream"
        },
        {
          "name": "stdout",
          "text": "                   all        801        944      0.957      0.858      0.932      0.815\n",
          "output_type": "stream"
        },
        {
          "name": "stderr",
          "text": "\n",
          "output_type": "stream"
        },
        {
          "name": "stdout",
          "text": "\n      Epoch    GPU_mem   box_loss   cls_loss   dfl_loss  Instances       Size\n",
          "output_type": "stream"
        },
        {
          "name": "stderr",
          "text": "     87/128      8.58G      1.154      1.147       1.86          8        416: 100%|██████████| 66/66 [00:39<00:00,  1.66it/s]\n                 Class     Images  Instances      Box(P          R      mAP50  mAP50-95): 100%|██████████| 7/7 [00:04<00:00,  1.64it/s]",
          "output_type": "stream"
        },
        {
          "name": "stdout",
          "text": "                   all        801        944      0.931       0.86      0.927       0.81\n",
          "output_type": "stream"
        },
        {
          "name": "stderr",
          "text": "\n",
          "output_type": "stream"
        },
        {
          "name": "stdout",
          "text": "\n      Epoch    GPU_mem   box_loss   cls_loss   dfl_loss  Instances       Size\n",
          "output_type": "stream"
        },
        {
          "name": "stderr",
          "text": "     88/128      8.58G      1.141      1.137      1.864          8        416: 100%|██████████| 66/66 [00:39<00:00,  1.67it/s]\n                 Class     Images  Instances      Box(P          R      mAP50  mAP50-95): 100%|██████████| 7/7 [00:04<00:00,  1.73it/s]",
          "output_type": "stream"
        },
        {
          "name": "stdout",
          "text": "                   all        801        944      0.939      0.863      0.922      0.807\n",
          "output_type": "stream"
        },
        {
          "name": "stderr",
          "text": "\n",
          "output_type": "stream"
        },
        {
          "name": "stdout",
          "text": "\n      Epoch    GPU_mem   box_loss   cls_loss   dfl_loss  Instances       Size\n",
          "output_type": "stream"
        },
        {
          "name": "stderr",
          "text": "     89/128      8.58G       1.12      1.113       1.85         11        416: 100%|██████████| 66/66 [00:39<00:00,  1.67it/s]\n                 Class     Images  Instances      Box(P          R      mAP50  mAP50-95): 100%|██████████| 7/7 [00:04<00:00,  1.72it/s]",
          "output_type": "stream"
        },
        {
          "name": "stdout",
          "text": "                   all        801        944      0.936       0.86       0.93      0.813\n",
          "output_type": "stream"
        },
        {
          "name": "stderr",
          "text": "\n",
          "output_type": "stream"
        },
        {
          "name": "stdout",
          "text": "\n      Epoch    GPU_mem   box_loss   cls_loss   dfl_loss  Instances       Size\n",
          "output_type": "stream"
        },
        {
          "name": "stderr",
          "text": "     90/128      8.59G      1.136      1.092      1.839          9        416: 100%|██████████| 66/66 [00:39<00:00,  1.67it/s]\n                 Class     Images  Instances      Box(P          R      mAP50  mAP50-95): 100%|██████████| 7/7 [00:04<00:00,  1.69it/s]",
          "output_type": "stream"
        },
        {
          "name": "stdout",
          "text": "                   all        801        944      0.913      0.882      0.929      0.809\n",
          "output_type": "stream"
        },
        {
          "name": "stderr",
          "text": "\n",
          "output_type": "stream"
        },
        {
          "name": "stdout",
          "text": "\n      Epoch    GPU_mem   box_loss   cls_loss   dfl_loss  Instances       Size\n",
          "output_type": "stream"
        },
        {
          "name": "stderr",
          "text": "     91/128      8.59G      1.121      1.087      1.846         14        416: 100%|██████████| 66/66 [00:39<00:00,  1.66it/s]\n                 Class     Images  Instances      Box(P          R      mAP50  mAP50-95): 100%|██████████| 7/7 [00:04<00:00,  1.73it/s]",
          "output_type": "stream"
        },
        {
          "name": "stdout",
          "text": "                   all        801        944      0.936      0.874      0.937       0.82\n",
          "output_type": "stream"
        },
        {
          "name": "stderr",
          "text": "\n",
          "output_type": "stream"
        },
        {
          "name": "stdout",
          "text": "\n      Epoch    GPU_mem   box_loss   cls_loss   dfl_loss  Instances       Size\n",
          "output_type": "stream"
        },
        {
          "name": "stderr",
          "text": "     92/128      8.58G      1.123      1.086      1.846         12        416: 100%|██████████| 66/66 [00:39<00:00,  1.67it/s]\n                 Class     Images  Instances      Box(P          R      mAP50  mAP50-95): 100%|██████████| 7/7 [00:04<00:00,  1.66it/s]\n",
          "output_type": "stream"
        },
        {
          "name": "stdout",
          "text": "                   all        801        944      0.942      0.869      0.928      0.809\n\n      Epoch    GPU_mem   box_loss   cls_loss   dfl_loss  Instances       Size\n",
          "output_type": "stream"
        },
        {
          "name": "stderr",
          "text": "     93/128      8.59G      1.129      1.089      1.841          7        416: 100%|██████████| 66/66 [00:39<00:00,  1.66it/s]\n                 Class     Images  Instances      Box(P          R      mAP50  mAP50-95): 100%|██████████| 7/7 [00:04<00:00,  1.74it/s]\n",
          "output_type": "stream"
        },
        {
          "name": "stdout",
          "text": "                   all        801        944      0.938      0.868      0.931      0.816\n\n      Epoch    GPU_mem   box_loss   cls_loss   dfl_loss  Instances       Size\n",
          "output_type": "stream"
        },
        {
          "name": "stderr",
          "text": "     94/128      8.59G      1.096      1.073      1.843         10        416: 100%|██████████| 66/66 [00:39<00:00,  1.66it/s]\n                 Class     Images  Instances      Box(P          R      mAP50  mAP50-95): 100%|██████████| 7/7 [00:04<00:00,  1.70it/s]\n",
          "output_type": "stream"
        },
        {
          "name": "stdout",
          "text": "                   all        801        944      0.934      0.872      0.931      0.812\n\n      Epoch    GPU_mem   box_loss   cls_loss   dfl_loss  Instances       Size\n",
          "output_type": "stream"
        },
        {
          "name": "stderr",
          "text": "     95/128      8.59G      1.106      1.064      1.842          6        416: 100%|██████████| 66/66 [00:39<00:00,  1.66it/s]\n                 Class     Images  Instances      Box(P          R      mAP50  mAP50-95): 100%|██████████| 7/7 [00:04<00:00,  1.72it/s]",
          "output_type": "stream"
        },
        {
          "name": "stdout",
          "text": "                   all        801        944      0.949       0.86      0.931      0.815\n",
          "output_type": "stream"
        },
        {
          "name": "stderr",
          "text": "\n",
          "output_type": "stream"
        },
        {
          "name": "stdout",
          "text": "\n      Epoch    GPU_mem   box_loss   cls_loss   dfl_loss  Instances       Size\n",
          "output_type": "stream"
        },
        {
          "name": "stderr",
          "text": "     96/128      8.58G        1.1      1.035      1.841          9        416: 100%|██████████| 66/66 [00:39<00:00,  1.66it/s]\n                 Class     Images  Instances      Box(P          R      mAP50  mAP50-95): 100%|██████████| 7/7 [00:04<00:00,  1.71it/s]\n",
          "output_type": "stream"
        },
        {
          "name": "stdout",
          "text": "                   all        801        944       0.93      0.871       0.93      0.813\n\n      Epoch    GPU_mem   box_loss   cls_loss   dfl_loss  Instances       Size\n",
          "output_type": "stream"
        },
        {
          "name": "stderr",
          "text": "     97/128      8.59G      1.107      1.056      1.843          7        416: 100%|██████████| 66/66 [00:39<00:00,  1.66it/s]\n                 Class     Images  Instances      Box(P          R      mAP50  mAP50-95): 100%|██████████| 7/7 [00:04<00:00,  1.69it/s]",
          "output_type": "stream"
        },
        {
          "name": "stdout",
          "text": "                   all        801        944      0.928      0.884      0.927      0.811\n",
          "output_type": "stream"
        },
        {
          "name": "stderr",
          "text": "\n",
          "output_type": "stream"
        },
        {
          "name": "stdout",
          "text": "\n      Epoch    GPU_mem   box_loss   cls_loss   dfl_loss  Instances       Size\n",
          "output_type": "stream"
        },
        {
          "name": "stderr",
          "text": "     98/128      8.59G      1.109      1.022      1.843          8        416: 100%|██████████| 66/66 [00:39<00:00,  1.67it/s]\n                 Class     Images  Instances      Box(P          R      mAP50  mAP50-95): 100%|██████████| 7/7 [00:04<00:00,  1.74it/s]",
          "output_type": "stream"
        },
        {
          "name": "stdout",
          "text": "                   all        801        944      0.927       0.88      0.925      0.812\n",
          "output_type": "stream"
        },
        {
          "name": "stderr",
          "text": "\n",
          "output_type": "stream"
        },
        {
          "name": "stdout",
          "text": "\n      Epoch    GPU_mem   box_loss   cls_loss   dfl_loss  Instances       Size\n",
          "output_type": "stream"
        },
        {
          "name": "stderr",
          "text": "     99/128      8.59G       1.07      1.029      1.832         10        416: 100%|██████████| 66/66 [00:39<00:00,  1.66it/s]\n                 Class     Images  Instances      Box(P          R      mAP50  mAP50-95): 100%|██████████| 7/7 [00:04<00:00,  1.73it/s]",
          "output_type": "stream"
        },
        {
          "name": "stdout",
          "text": "                   all        801        944      0.947       0.86       0.92      0.805\n",
          "output_type": "stream"
        },
        {
          "name": "stderr",
          "text": "\n",
          "output_type": "stream"
        },
        {
          "name": "stdout",
          "text": "\n      Epoch    GPU_mem   box_loss   cls_loss   dfl_loss  Instances       Size\n",
          "output_type": "stream"
        },
        {
          "name": "stderr",
          "text": "    100/128      8.62G      1.064     0.9961      1.836          7        416: 100%|██████████| 66/66 [00:39<00:00,  1.66it/s]\n                 Class     Images  Instances      Box(P          R      mAP50  mAP50-95): 100%|██████████| 7/7 [00:04<00:00,  1.72it/s]",
          "output_type": "stream"
        },
        {
          "name": "stdout",
          "text": "                   all        801        944       0.94      0.864      0.924      0.808\n",
          "output_type": "stream"
        },
        {
          "name": "stderr",
          "text": "\n",
          "output_type": "stream"
        },
        {
          "name": "stdout",
          "text": "\n      Epoch    GPU_mem   box_loss   cls_loss   dfl_loss  Instances       Size\n",
          "output_type": "stream"
        },
        {
          "name": "stderr",
          "text": "    101/128      8.59G      1.069       1.01      1.835          9        416: 100%|██████████| 66/66 [00:39<00:00,  1.65it/s]\n                 Class     Images  Instances      Box(P          R      mAP50  mAP50-95): 100%|██████████| 7/7 [00:04<00:00,  1.67it/s]",
          "output_type": "stream"
        },
        {
          "name": "stdout",
          "text": "                   all        801        944      0.932       0.87      0.931      0.813\n",
          "output_type": "stream"
        },
        {
          "name": "stderr",
          "text": "\n",
          "output_type": "stream"
        },
        {
          "name": "stdout",
          "text": "\n      Epoch    GPU_mem   box_loss   cls_loss   dfl_loss  Instances       Size\n",
          "output_type": "stream"
        },
        {
          "name": "stderr",
          "text": "    102/128      8.58G      1.085      1.027      1.834         11        416: 100%|██████████| 66/66 [00:39<00:00,  1.66it/s]\n                 Class     Images  Instances      Box(P          R      mAP50  mAP50-95): 100%|██████████| 7/7 [00:04<00:00,  1.67it/s]\n",
          "output_type": "stream"
        },
        {
          "name": "stdout",
          "text": "                   all        801        944      0.948      0.864      0.929      0.813\n\n      Epoch    GPU_mem   box_loss   cls_loss   dfl_loss  Instances       Size\n",
          "output_type": "stream"
        },
        {
          "name": "stderr",
          "text": "    103/128      8.59G      1.061     0.9657       1.83         12        416: 100%|██████████| 66/66 [00:39<00:00,  1.65it/s]\n                 Class     Images  Instances      Box(P          R      mAP50  mAP50-95): 100%|██████████| 7/7 [00:04<00:00,  1.69it/s]",
          "output_type": "stream"
        },
        {
          "name": "stdout",
          "text": "                   all        801        944      0.948      0.863      0.929      0.813\n",
          "output_type": "stream"
        },
        {
          "name": "stderr",
          "text": "\n",
          "output_type": "stream"
        },
        {
          "name": "stdout",
          "text": "\n      Epoch    GPU_mem   box_loss   cls_loss   dfl_loss  Instances       Size\n",
          "output_type": "stream"
        },
        {
          "name": "stderr",
          "text": "    104/128      8.59G      1.065      1.007      1.833          9        416: 100%|██████████| 66/66 [00:39<00:00,  1.66it/s]\n                 Class     Images  Instances      Box(P          R      mAP50  mAP50-95): 100%|██████████| 7/7 [00:04<00:00,  1.68it/s]",
          "output_type": "stream"
        },
        {
          "name": "stdout",
          "text": "                   all        801        944      0.944      0.879      0.936      0.816\n",
          "output_type": "stream"
        },
        {
          "name": "stderr",
          "text": "\n",
          "output_type": "stream"
        },
        {
          "name": "stdout",
          "text": "\n      Epoch    GPU_mem   box_loss   cls_loss   dfl_loss  Instances       Size\n",
          "output_type": "stream"
        },
        {
          "name": "stderr",
          "text": "    105/128      8.59G      1.063     0.9846      1.835         11        416: 100%|██████████| 66/66 [00:39<00:00,  1.66it/s]\n                 Class     Images  Instances      Box(P          R      mAP50  mAP50-95): 100%|██████████| 7/7 [00:04<00:00,  1.70it/s]\n",
          "output_type": "stream"
        },
        {
          "name": "stdout",
          "text": "                   all        801        944      0.949      0.866      0.933      0.814\n\n      Epoch    GPU_mem   box_loss   cls_loss   dfl_loss  Instances       Size\n",
          "output_type": "stream"
        },
        {
          "name": "stderr",
          "text": "    106/128      8.59G      1.059     0.9627      1.836         12        416: 100%|██████████| 66/66 [00:39<00:00,  1.67it/s]\n                 Class     Images  Instances      Box(P          R      mAP50  mAP50-95): 100%|██████████| 7/7 [00:04<00:00,  1.71it/s]",
          "output_type": "stream"
        },
        {
          "name": "stdout",
          "text": "                   all        801        944      0.919      0.886      0.935      0.818\n",
          "output_type": "stream"
        },
        {
          "name": "stderr",
          "text": "\n",
          "output_type": "stream"
        },
        {
          "name": "stdout",
          "text": "\n      Epoch    GPU_mem   box_loss   cls_loss   dfl_loss  Instances       Size\n",
          "output_type": "stream"
        },
        {
          "name": "stderr",
          "text": "    107/128      8.59G      1.029     0.9436      1.814          7        416: 100%|██████████| 66/66 [00:39<00:00,  1.66it/s]\n                 Class     Images  Instances      Box(P          R      mAP50  mAP50-95): 100%|██████████| 7/7 [00:04<00:00,  1.73it/s]\n",
          "output_type": "stream"
        },
        {
          "name": "stdout",
          "text": "                   all        801        944       0.94      0.877       0.93      0.811\n\n      Epoch    GPU_mem   box_loss   cls_loss   dfl_loss  Instances       Size\n",
          "output_type": "stream"
        },
        {
          "name": "stderr",
          "text": "    108/128      8.58G      1.048     0.9786      1.823          7        416: 100%|██████████| 66/66 [00:39<00:00,  1.66it/s]\n                 Class     Images  Instances      Box(P          R      mAP50  mAP50-95): 100%|██████████| 7/7 [00:04<00:00,  1.70it/s]\n",
          "output_type": "stream"
        },
        {
          "name": "stdout",
          "text": "                   all        801        944      0.962      0.854       0.93       0.81\n\n      Epoch    GPU_mem   box_loss   cls_loss   dfl_loss  Instances       Size\n",
          "output_type": "stream"
        },
        {
          "name": "stderr",
          "text": "    109/128      8.58G      1.066     0.9793      1.844          7        416: 100%|██████████| 66/66 [00:39<00:00,  1.66it/s]\n                 Class     Images  Instances      Box(P          R      mAP50  mAP50-95): 100%|██████████| 7/7 [00:04<00:00,  1.67it/s]",
          "output_type": "stream"
        },
        {
          "name": "stdout",
          "text": "                   all        801        944      0.955      0.867      0.928       0.81\n",
          "output_type": "stream"
        },
        {
          "name": "stderr",
          "text": "\n",
          "output_type": "stream"
        },
        {
          "name": "stdout",
          "text": "\n      Epoch    GPU_mem   box_loss   cls_loss   dfl_loss  Instances       Size\n",
          "output_type": "stream"
        },
        {
          "name": "stderr",
          "text": "    110/128      8.59G      1.055     0.9344      1.826         12        416: 100%|██████████| 66/66 [00:39<00:00,  1.66it/s]\n                 Class     Images  Instances      Box(P          R      mAP50  mAP50-95): 100%|██████████| 7/7 [00:04<00:00,  1.67it/s]",
          "output_type": "stream"
        },
        {
          "name": "stdout",
          "text": "                   all        801        944      0.948      0.872      0.932       0.81\n",
          "output_type": "stream"
        },
        {
          "name": "stderr",
          "text": "\n",
          "output_type": "stream"
        },
        {
          "name": "stdout",
          "text": "\n      Epoch    GPU_mem   box_loss   cls_loss   dfl_loss  Instances       Size\n",
          "output_type": "stream"
        },
        {
          "name": "stderr",
          "text": "    111/128      8.59G      1.049     0.9473      1.832          7        416: 100%|██████████| 66/66 [00:39<00:00,  1.66it/s]\n                 Class     Images  Instances      Box(P          R      mAP50  mAP50-95): 100%|██████████| 7/7 [00:04<00:00,  1.72it/s]\n",
          "output_type": "stream"
        },
        {
          "name": "stdout",
          "text": "                   all        801        944      0.955       0.87      0.932      0.814\n\n      Epoch    GPU_mem   box_loss   cls_loss   dfl_loss  Instances       Size\n",
          "output_type": "stream"
        },
        {
          "name": "stderr",
          "text": "    112/128      8.58G       1.03     0.9265      1.819         10        416: 100%|██████████| 66/66 [00:39<00:00,  1.66it/s]\n                 Class     Images  Instances      Box(P          R      mAP50  mAP50-95): 100%|██████████| 7/7 [00:04<00:00,  1.69it/s]",
          "output_type": "stream"
        },
        {
          "name": "stdout",
          "text": "                   all        801        944      0.976      0.852      0.935      0.813\n",
          "output_type": "stream"
        },
        {
          "name": "stderr",
          "text": "\n",
          "output_type": "stream"
        },
        {
          "name": "stdout",
          "text": "\n      Epoch    GPU_mem   box_loss   cls_loss   dfl_loss  Instances       Size\n",
          "output_type": "stream"
        },
        {
          "name": "stderr",
          "text": "    113/128      8.59G      1.035     0.9269      1.824          9        416: 100%|██████████| 66/66 [00:39<00:00,  1.66it/s]\n                 Class     Images  Instances      Box(P          R      mAP50  mAP50-95): 100%|██████████| 7/7 [00:04<00:00,  1.74it/s]",
          "output_type": "stream"
        },
        {
          "name": "stdout",
          "text": "                   all        801        944      0.942      0.877      0.936      0.816\n",
          "output_type": "stream"
        },
        {
          "name": "stderr",
          "text": "\n",
          "output_type": "stream"
        },
        {
          "name": "stdout",
          "text": "\n      Epoch    GPU_mem   box_loss   cls_loss   dfl_loss  Instances       Size\n",
          "output_type": "stream"
        },
        {
          "name": "stderr",
          "text": "    114/128      8.59G      1.035     0.9492      1.822         15        416: 100%|██████████| 66/66 [00:39<00:00,  1.66it/s]\n                 Class     Images  Instances      Box(P          R      mAP50  mAP50-95): 100%|██████████| 7/7 [00:04<00:00,  1.72it/s]\n",
          "output_type": "stream"
        },
        {
          "name": "stdout",
          "text": "                   all        801        944      0.957      0.877      0.936      0.815\n\n      Epoch    GPU_mem   box_loss   cls_loss   dfl_loss  Instances       Size\n",
          "output_type": "stream"
        },
        {
          "name": "stderr",
          "text": "    115/128      8.59G      1.022     0.9199      1.813         10        416: 100%|██████████| 66/66 [00:39<00:00,  1.67it/s]\n                 Class     Images  Instances      Box(P          R      mAP50  mAP50-95): 100%|██████████| 7/7 [00:04<00:00,  1.70it/s]",
          "output_type": "stream"
        },
        {
          "name": "stdout",
          "text": "                   all        801        944      0.949      0.879      0.939      0.819\n",
          "output_type": "stream"
        },
        {
          "name": "stderr",
          "text": "\n",
          "output_type": "stream"
        },
        {
          "name": "stdout",
          "text": "\n      Epoch    GPU_mem   box_loss   cls_loss   dfl_loss  Instances       Size\n",
          "output_type": "stream"
        },
        {
          "name": "stderr",
          "text": "    116/128      8.59G       1.02     0.9077      1.818          7        416: 100%|██████████| 66/66 [00:46<00:00,  1.42it/s]\n                 Class     Images  Instances      Box(P          R      mAP50  mAP50-95): 100%|██████████| 7/7 [00:04<00:00,  1.65it/s]",
          "output_type": "stream"
        },
        {
          "name": "stdout",
          "text": "                   all        801        944      0.958      0.878      0.938      0.817\n",
          "output_type": "stream"
        },
        {
          "name": "stderr",
          "text": "\n",
          "output_type": "stream"
        },
        {
          "name": "stdout",
          "text": "\n      Epoch    GPU_mem   box_loss   cls_loss   dfl_loss  Instances       Size\n",
          "output_type": "stream"
        },
        {
          "name": "stderr",
          "text": "    117/128      8.59G      1.021     0.9193      1.819         11        416: 100%|██████████| 66/66 [00:39<00:00,  1.66it/s]\n                 Class     Images  Instances      Box(P          R      mAP50  mAP50-95): 100%|██████████| 7/7 [00:04<00:00,  1.73it/s]\n",
          "output_type": "stream"
        },
        {
          "name": "stdout",
          "text": "                   all        801        944      0.945      0.888      0.937      0.817\n\n      Epoch    GPU_mem   box_loss   cls_loss   dfl_loss  Instances       Size\n",
          "output_type": "stream"
        },
        {
          "name": "stderr",
          "text": "    118/128      8.61G      1.011     0.9103      1.818          7        416: 100%|██████████| 66/66 [00:39<00:00,  1.66it/s]\n                 Class     Images  Instances      Box(P          R      mAP50  mAP50-95): 100%|██████████| 7/7 [00:04<00:00,  1.70it/s]\n",
          "output_type": "stream"
        },
        {
          "name": "stdout",
          "text": "                   all        801        944       0.95      0.876      0.934      0.817\nClosing dataloader mosaic\n\u001b[34m\u001b[1malbumentations: \u001b[0mBlur(p=0.01, blur_limit=(3, 7)), MedianBlur(p=0.01, blur_limit=(3, 7)), ToGray(p=0.01, num_output_channels=3, method='weighted_average'), CLAHE(p=0.01, clip_limit=(1, 4.0), tile_grid_size=(8, 8))\n",
          "output_type": "stream"
        },
        {
          "name": "stderr",
          "text": "/opt/conda/lib/python3.10/multiprocessing/popen_fork.py:66: RuntimeWarning: os.fork() was called. os.fork() is incompatible with multithreaded code, and JAX is multithreaded, so this will likely lead to a deadlock.\n  self.pid = os.fork()\n/opt/conda/lib/python3.10/multiprocessing/popen_fork.py:66: RuntimeWarning: os.fork() was called. os.fork() is incompatible with multithreaded code, and JAX is multithreaded, so this will likely lead to a deadlock.\n  self.pid = os.fork()\n",
          "output_type": "stream"
        },
        {
          "name": "stdout",
          "text": "\n      Epoch    GPU_mem   box_loss   cls_loss   dfl_loss  Instances       Size\n",
          "output_type": "stream"
        },
        {
          "name": "stderr",
          "text": "    119/128      8.59G     0.9966      0.597      1.718          5        416: 100%|██████████| 66/66 [00:40<00:00,  1.63it/s]\n                 Class     Images  Instances      Box(P          R      mAP50  mAP50-95): 100%|██████████| 7/7 [00:04<00:00,  1.72it/s]\n",
          "output_type": "stream"
        },
        {
          "name": "stdout",
          "text": "                   all        801        944      0.929      0.895      0.939       0.82\n\n      Epoch    GPU_mem   box_loss   cls_loss   dfl_loss  Instances       Size\n",
          "output_type": "stream"
        },
        {
          "name": "stderr",
          "text": "    120/128      8.59G      0.971       0.58      1.713          4        416: 100%|██████████| 66/66 [00:39<00:00,  1.68it/s]\n                 Class     Images  Instances      Box(P          R      mAP50  mAP50-95): 100%|██████████| 7/7 [00:04<00:00,  1.70it/s]",
          "output_type": "stream"
        },
        {
          "name": "stdout",
          "text": "                   all        801        944      0.948      0.889      0.941      0.821\n",
          "output_type": "stream"
        },
        {
          "name": "stderr",
          "text": "\n",
          "output_type": "stream"
        },
        {
          "name": "stdout",
          "text": "\n      Epoch    GPU_mem   box_loss   cls_loss   dfl_loss  Instances       Size\n",
          "output_type": "stream"
        },
        {
          "name": "stderr",
          "text": "    121/128      8.59G     0.9608     0.5602      1.703          4        416: 100%|██████████| 66/66 [00:39<00:00,  1.67it/s]\n                 Class     Images  Instances      Box(P          R      mAP50  mAP50-95): 100%|██████████| 7/7 [00:04<00:00,  1.72it/s]\n",
          "output_type": "stream"
        },
        {
          "name": "stdout",
          "text": "                   all        801        944      0.944      0.886      0.941      0.821\n\n      Epoch    GPU_mem   box_loss   cls_loss   dfl_loss  Instances       Size\n",
          "output_type": "stream"
        },
        {
          "name": "stderr",
          "text": "    122/128      8.57G     0.9542     0.5438      1.705          4        416: 100%|██████████| 66/66 [00:39<00:00,  1.67it/s]\n                 Class     Images  Instances      Box(P          R      mAP50  mAP50-95): 100%|██████████| 7/7 [00:04<00:00,  1.70it/s]\n",
          "output_type": "stream"
        },
        {
          "name": "stdout",
          "text": "                   all        801        944      0.934      0.894      0.939       0.82\n\n      Epoch    GPU_mem   box_loss   cls_loss   dfl_loss  Instances       Size\n",
          "output_type": "stream"
        },
        {
          "name": "stderr",
          "text": "    123/128      8.59G      0.948     0.5461      1.707          4        416: 100%|██████████| 66/66 [00:39<00:00,  1.67it/s]\n                 Class     Images  Instances      Box(P          R      mAP50  mAP50-95): 100%|██████████| 7/7 [00:03<00:00,  1.75it/s]",
          "output_type": "stream"
        },
        {
          "name": "stdout",
          "text": "                   all        801        944      0.955      0.879      0.939       0.82\n",
          "output_type": "stream"
        },
        {
          "name": "stderr",
          "text": "\n",
          "output_type": "stream"
        },
        {
          "name": "stdout",
          "text": "\n      Epoch    GPU_mem   box_loss   cls_loss   dfl_loss  Instances       Size\n",
          "output_type": "stream"
        },
        {
          "name": "stderr",
          "text": "    124/128      8.57G     0.9544     0.5713      1.705          5        416: 100%|██████████| 66/66 [00:39<00:00,  1.68it/s]\n                 Class     Images  Instances      Box(P          R      mAP50  mAP50-95): 100%|██████████| 7/7 [00:04<00:00,  1.71it/s]\n",
          "output_type": "stream"
        },
        {
          "name": "stdout",
          "text": "                   all        801        944      0.926      0.905      0.941      0.822\n\n      Epoch    GPU_mem   box_loss   cls_loss   dfl_loss  Instances       Size\n",
          "output_type": "stream"
        },
        {
          "name": "stderr",
          "text": "    125/128      8.59G     0.9381     0.5374      1.701          4        416: 100%|██████████| 66/66 [00:39<00:00,  1.68it/s]\n                 Class     Images  Instances      Box(P          R      mAP50  mAP50-95): 100%|██████████| 7/7 [00:04<00:00,  1.73it/s]\n",
          "output_type": "stream"
        },
        {
          "name": "stdout",
          "text": "                   all        801        944      0.946      0.883      0.939       0.82\n\n      Epoch    GPU_mem   box_loss   cls_loss   dfl_loss  Instances       Size\n",
          "output_type": "stream"
        },
        {
          "name": "stderr",
          "text": "    126/128      8.57G     0.9357     0.5248      1.693          5        416: 100%|██████████| 66/66 [00:39<00:00,  1.67it/s]\n                 Class     Images  Instances      Box(P          R      mAP50  mAP50-95): 100%|██████████| 7/7 [00:04<00:00,  1.71it/s]\n",
          "output_type": "stream"
        },
        {
          "name": "stdout",
          "text": "                   all        801        944      0.946      0.883      0.938      0.819\n\n      Epoch    GPU_mem   box_loss   cls_loss   dfl_loss  Instances       Size\n",
          "output_type": "stream"
        },
        {
          "name": "stderr",
          "text": "    127/128      8.59G     0.9377     0.5454      1.703          4        416: 100%|██████████| 66/66 [00:39<00:00,  1.67it/s]\n                 Class     Images  Instances      Box(P          R      mAP50  mAP50-95): 100%|██████████| 7/7 [00:04<00:00,  1.70it/s]\n",
          "output_type": "stream"
        },
        {
          "name": "stdout",
          "text": "                   all        801        944      0.952      0.879      0.938      0.819\n\n      Epoch    GPU_mem   box_loss   cls_loss   dfl_loss  Instances       Size\n",
          "output_type": "stream"
        },
        {
          "name": "stderr",
          "text": "    128/128      8.57G     0.9202     0.5355      1.686          4        416: 100%|██████████| 66/66 [00:39<00:00,  1.67it/s]\n                 Class     Images  Instances      Box(P          R      mAP50  mAP50-95): 100%|██████████| 7/7 [00:04<00:00,  1.72it/s]\n",
          "output_type": "stream"
        },
        {
          "name": "stdout",
          "text": "                   all        801        944      0.952      0.878      0.938      0.821\n\n128 epochs completed in 1.611 hours.\nOptimizer stripped from runs/detect/train/weights/last.pt, 16.5MB\nOptimizer stripped from runs/detect/train/weights/best.pt, 16.5MB\n\nValidating runs/detect/train/weights/best.pt...\nUltralytics 8.3.2 🚀 Python-3.10.14 torch-2.4.0 CUDA:0 (Tesla T4, 15095MiB)\nYOLOv10s summary (fused): 293 layers, 8,045,796 parameters, 0 gradients, 24.5 GFLOPs\n",
          "output_type": "stream"
        },
        {
          "name": "stderr",
          "text": "                 Class     Images  Instances      Box(P          R      mAP50  mAP50-95): 100%|██████████| 7/7 [00:05<00:00,  1.38it/s]\n",
          "output_type": "stream"
        },
        {
          "name": "stdout",
          "text": "                   all        801        944      0.927      0.903       0.94      0.822\n           Green Light         87        122      0.859      0.697      0.801      0.503\n             Red Light         74        108      0.797       0.69      0.755      0.483\n       Speed Limit 100         52         52      0.944      0.978      0.967      0.891\n       Speed Limit 110         17         17      0.874      0.817      0.859      0.806\n       Speed Limit 120         60         60      0.984      0.998      0.994      0.915\n        Speed Limit 20         56         56      0.972      0.982      0.988      0.865\n        Speed Limit 30         71         74      0.936      0.973       0.99      0.929\n        Speed Limit 40         53         55      0.963      0.959      0.991      0.893\n        Speed Limit 50         68         71      0.927      0.894      0.961      0.865\n        Speed Limit 60         76         76      0.924      0.959       0.98      0.888\n        Speed Limit 70         78         78      0.943      0.974      0.988      0.913\n        Speed Limit 80         56         56      0.927      0.964      0.983      0.864\n        Speed Limit 90         38         38      0.967      0.768      0.918      0.746\n                  Stop         81         81      0.961      0.988      0.991      0.942\nSpeed: 0.1ms preprocess, 2.6ms inference, 0.0ms loss, 0.1ms postprocess per image\nResults saved to \u001b[1mruns/detect/train\u001b[0m\n",
          "output_type": "stream"
        },
        {
          "output_type": "display_data",
          "data": {
            "text/plain": "VBox(children=(Label(value='22.553 MB of 22.553 MB uploaded\\r'), FloatProgress(value=1.0, max=1.0)))",
            "application/vnd.jupyter.widget-view+json": {
              "version_major": 2,
              "version_minor": 0,
              "model_id": ""
            }
          },
          "metadata": {}
        },
        {
          "output_type": "display_data",
          "data": {
            "text/plain": "<IPython.core.display.HTML object>",
            "text/html": "<style>\n    table.wandb td:nth-child(1) { padding: 0 10px; text-align: left ; width: auto;} td:nth-child(2) {text-align: left ; width: 100%}\n    .wandb-row { display: flex; flex-direction: row; flex-wrap: wrap; justify-content: flex-start; width: 100% }\n    .wandb-col { display: flex; flex-direction: column; flex-basis: 100%; flex: 1; padding: 10px; }\n    </style>\n<div class=\"wandb-row\"><div class=\"wandb-col\"><h3>Run history:</h3><br/><table class=\"wandb\"><tr><td>lr/pg0</td><td>███▇▇▇▇▇▇▇▆▆▆▆▆▆▆▅▅▅▅▅▄▄▄▃▃▃▃▃▃▃▃▃▂▂▂▂▁▁</td></tr><tr><td>lr/pg1</td><td>▃███▇▇▇▇▇▇▆▆▆▆▅▅▅▄▄▄▄▄▄▄▃▃▃▃▃▃▂▂▂▂▂▂▂▁▁▁</td></tr><tr><td>lr/pg2</td><td>▃████▇▇▇▇▇▇▆▆▆▆▅▅▅▅▅▄▄▄▄▄▃▃▃▃▃▂▂▂▂▂▂▁▁▁▁</td></tr><tr><td>metrics/mAP50(B)</td><td>▁▆▆▇▇▇▇▇▇▇██████████████████████████████</td></tr><tr><td>metrics/mAP50-95(B)</td><td>▂▁▅▇▇▇▇▇▇▇▇█████████████████████████████</td></tr><tr><td>metrics/precision(B)</td><td>▁▅▆▆▇▇▇███▇██████▇██▇███▇███████████████</td></tr><tr><td>metrics/recall(B)</td><td>▁▄▄▅▆▆▆▆▆▇▇▇▇▇▇▇▇▇▇▇█▇██▇▇▇█▇█▇▇█▇██████</td></tr><tr><td>model/GFLOPs</td><td>▁</td></tr><tr><td>model/parameters</td><td>▁</td></tr><tr><td>model/speed_PyTorch(ms)</td><td>▁</td></tr><tr><td>train/box_loss</td><td>█▇▆▅▅▄▄▄▄▄▃▃▃▃▃▃▃▃▃▃▃▃▃▃▃▂▂▂▂▂▂▂▂▂▂▂▂▁▁▁</td></tr><tr><td>train/cls_loss</td><td>█▃▃▂▂▂▂▂▂▂▂▂▂▂▂▁▁▁▁▁▁▁▁▁▁▁▁▁▁▁▁▁▁▁▁▁▁▁▁▁</td></tr><tr><td>train/dfl_loss</td><td>██▇▇▇▆▆▆▅▅▅▅▄▄▄▄▄▄▄▄▄▄▄▃▃▃▃▃▃▃▃▃▃▃▃▃▃▃▁▁</td></tr><tr><td>val/box_loss</td><td>▅███▆▄▅▃▄▃▂▂▂▂▂▂▂▂▂▂▂▁▂▁▁▁▁▁▁▁▁▁▁▁▁▁▁▁▁▁</td></tr><tr><td>val/cls_loss</td><td>██▇▄▃▂▂▂▂▂▁▁▁▁▁▁▁▁▁▁▁▁▁▁▁▁▁▁▁▁▁▁▁▁▁▁▁▁▁▁</td></tr><tr><td>val/dfl_loss</td><td>▆█▅▄▅▂▂▃▃▂▂▂▂▂▂▂▁▂▁▁▁▁▁▁▁▁▁▁▁▁▁▁▁▁▁▁▁▁▁▁</td></tr></table><br/></div><div class=\"wandb-col\"><h3>Run summary:</h3><br/><table class=\"wandb\"><tr><td>lr/pg0</td><td>1e-05</td></tr><tr><td>lr/pg1</td><td>1e-05</td></tr><tr><td>lr/pg2</td><td>1e-05</td></tr><tr><td>metrics/mAP50(B)</td><td>0.94037</td></tr><tr><td>metrics/mAP50-95(B)</td><td>0.8217</td></tr><tr><td>metrics/precision(B)</td><td>0.92695</td></tr><tr><td>metrics/recall(B)</td><td>0.90304</td></tr><tr><td>model/GFLOPs</td><td>24.826</td></tr><tr><td>model/parameters</td><td>8077188</td></tr><tr><td>model/speed_PyTorch(ms)</td><td>2.446</td></tr><tr><td>train/box_loss</td><td>0.9202</td></tr><tr><td>train/cls_loss</td><td>0.53552</td></tr><tr><td>train/dfl_loss</td><td>1.68588</td></tr><tr><td>val/box_loss</td><td>1.10829</td></tr><tr><td>val/cls_loss</td><td>0.57978</td></tr><tr><td>val/dfl_loss</td><td>1.73689</td></tr></table><br/></div></div>"
          },
          "metadata": {}
        },
        {
          "output_type": "display_data",
          "data": {
            "text/plain": "<IPython.core.display.HTML object>",
            "text/html": " View run <strong style=\"color:#cdcd00\">train</strong> at: <a href='https://wandb.ai/ahmeddd5-benha-university/YOLOv8/runs/jqlvb1ot' target=\"_blank\">https://wandb.ai/ahmeddd5-benha-university/YOLOv8/runs/jqlvb1ot</a><br/> View project at: <a href='https://wandb.ai/ahmeddd5-benha-university/YOLOv8' target=\"_blank\">https://wandb.ai/ahmeddd5-benha-university/YOLOv8</a><br/>Synced 5 W&B file(s), 0 media file(s), 10 artifact file(s) and 24 other file(s)"
          },
          "metadata": {}
        },
        {
          "output_type": "display_data",
          "data": {
            "text/plain": "<IPython.core.display.HTML object>",
            "text/html": "Find logs at: <code>./wandb/run-20241001_100544-jqlvb1ot/logs</code>"
          },
          "metadata": {}
        },
        {
          "execution_count": 4,
          "output_type": "execute_result",
          "data": {
            "text/plain": "ultralytics.utils.metrics.DetMetrics object with attributes:\n\nap_class_index: array([ 0,  1,  2,  3,  4,  5,  6,  7,  8,  9, 10, 11, 12, 13])\nbox: ultralytics.utils.metrics.Metric object\nconfusion_matrix: <ultralytics.utils.metrics.ConfusionMatrix object at 0x7f6d05735e70>\ncurves: ['Precision-Recall(B)', 'F1-Confidence(B)', 'Precision-Confidence(B)', 'Recall-Confidence(B)']\ncurves_results: [[array([          0,    0.001001,    0.002002,    0.003003,    0.004004,    0.005005,    0.006006,    0.007007,    0.008008,    0.009009,     0.01001,    0.011011,    0.012012,    0.013013,    0.014014,    0.015015,    0.016016,    0.017017,    0.018018,    0.019019,     0.02002,    0.021021,    0.022022,    0.023023,\n          0.024024,    0.025025,    0.026026,    0.027027,    0.028028,    0.029029,     0.03003,    0.031031,    0.032032,    0.033033,    0.034034,    0.035035,    0.036036,    0.037037,    0.038038,    0.039039,     0.04004,    0.041041,    0.042042,    0.043043,    0.044044,    0.045045,    0.046046,    0.047047,\n          0.048048,    0.049049,     0.05005,    0.051051,    0.052052,    0.053053,    0.054054,    0.055055,    0.056056,    0.057057,    0.058058,    0.059059,     0.06006,    0.061061,    0.062062,    0.063063,    0.064064,    0.065065,    0.066066,    0.067067,    0.068068,    0.069069,     0.07007,    0.071071,\n          0.072072,    0.073073,    0.074074,    0.075075,    0.076076,    0.077077,    0.078078,    0.079079,     0.08008,    0.081081,    0.082082,    0.083083,    0.084084,    0.085085,    0.086086,    0.087087,    0.088088,    0.089089,     0.09009,    0.091091,    0.092092,    0.093093,    0.094094,    0.095095,\n          0.096096,    0.097097,    0.098098,    0.099099,      0.1001,      0.1011,      0.1021,      0.1031,      0.1041,     0.10511,     0.10611,     0.10711,     0.10811,     0.10911,     0.11011,     0.11111,     0.11211,     0.11311,     0.11411,     0.11512,     0.11612,     0.11712,     0.11812,     0.11912,\n           0.12012,     0.12112,     0.12212,     0.12312,     0.12412,     0.12513,     0.12613,     0.12713,     0.12813,     0.12913,     0.13013,     0.13113,     0.13213,     0.13313,     0.13413,     0.13514,     0.13614,     0.13714,     0.13814,     0.13914,     0.14014,     0.14114,     0.14214,     0.14314,\n           0.14414,     0.14515,     0.14615,     0.14715,     0.14815,     0.14915,     0.15015,     0.15115,     0.15215,     0.15315,     0.15415,     0.15516,     0.15616,     0.15716,     0.15816,     0.15916,     0.16016,     0.16116,     0.16216,     0.16316,     0.16416,     0.16517,     0.16617,     0.16717,\n           0.16817,     0.16917,     0.17017,     0.17117,     0.17217,     0.17317,     0.17417,     0.17518,     0.17618,     0.17718,     0.17818,     0.17918,     0.18018,     0.18118,     0.18218,     0.18318,     0.18418,     0.18519,     0.18619,     0.18719,     0.18819,     0.18919,     0.19019,     0.19119,\n           0.19219,     0.19319,     0.19419,      0.1952,      0.1962,      0.1972,      0.1982,      0.1992,      0.2002,      0.2012,      0.2022,      0.2032,      0.2042,     0.20521,     0.20621,     0.20721,     0.20821,     0.20921,     0.21021,     0.21121,     0.21221,     0.21321,     0.21421,     0.21522,\n           0.21622,     0.21722,     0.21822,     0.21922,     0.22022,     0.22122,     0.22222,     0.22322,     0.22422,     0.22523,     0.22623,     0.22723,     0.22823,     0.22923,     0.23023,     0.23123,     0.23223,     0.23323,     0.23423,     0.23524,     0.23624,     0.23724,     0.23824,     0.23924,\n           0.24024,     0.24124,     0.24224,     0.24324,     0.24424,     0.24525,     0.24625,     0.24725,     0.24825,     0.24925,     0.25025,     0.25125,     0.25225,     0.25325,     0.25425,     0.25526,     0.25626,     0.25726,     0.25826,     0.25926,     0.26026,     0.26126,     0.26226,     0.26326,\n           0.26426,     0.26527,     0.26627,     0.26727,     0.26827,     0.26927,     0.27027,     0.27127,     0.27227,     0.27327,     0.27427,     0.27528,     0.27628,     0.27728,     0.27828,     0.27928,     0.28028,     0.28128,     0.28228,     0.28328,     0.28428,     0.28529,     0.28629,     0.28729,\n           0.28829,     0.28929,     0.29029,     0.29129,     0.29229,     0.29329,     0.29429,      0.2953,      0.2963,      0.2973,      0.2983,      0.2993,      0.3003,      0.3013,      0.3023,      0.3033,      0.3043,     0.30531,     0.30631,     0.30731,     0.30831,     0.30931,     0.31031,     0.31131,\n           0.31231,     0.31331,     0.31431,     0.31532,     0.31632,     0.31732,     0.31832,     0.31932,     0.32032,     0.32132,     0.32232,     0.32332,     0.32432,     0.32533,     0.32633,     0.32733,     0.32833,     0.32933,     0.33033,     0.33133,     0.33233,     0.33333,     0.33433,     0.33534,\n           0.33634,     0.33734,     0.33834,     0.33934,     0.34034,     0.34134,     0.34234,     0.34334,     0.34434,     0.34535,     0.34635,     0.34735,     0.34835,     0.34935,     0.35035,     0.35135,     0.35235,     0.35335,     0.35435,     0.35536,     0.35636,     0.35736,     0.35836,     0.35936,\n           0.36036,     0.36136,     0.36236,     0.36336,     0.36436,     0.36537,     0.36637,     0.36737,     0.36837,     0.36937,     0.37037,     0.37137,     0.37237,     0.37337,     0.37437,     0.37538,     0.37638,     0.37738,     0.37838,     0.37938,     0.38038,     0.38138,     0.38238,     0.38338,\n           0.38438,     0.38539,     0.38639,     0.38739,     0.38839,     0.38939,     0.39039,     0.39139,     0.39239,     0.39339,     0.39439,      0.3954,      0.3964,      0.3974,      0.3984,      0.3994,      0.4004,      0.4014,      0.4024,      0.4034,      0.4044,     0.40541,     0.40641,     0.40741,\n           0.40841,     0.40941,     0.41041,     0.41141,     0.41241,     0.41341,     0.41441,     0.41542,     0.41642,     0.41742,     0.41842,     0.41942,     0.42042,     0.42142,     0.42242,     0.42342,     0.42442,     0.42543,     0.42643,     0.42743,     0.42843,     0.42943,     0.43043,     0.43143,\n           0.43243,     0.43343,     0.43443,     0.43544,     0.43644,     0.43744,     0.43844,     0.43944,     0.44044,     0.44144,     0.44244,     0.44344,     0.44444,     0.44545,     0.44645,     0.44745,     0.44845,     0.44945,     0.45045,     0.45145,     0.45245,     0.45345,     0.45445,     0.45546,\n           0.45646,     0.45746,     0.45846,     0.45946,     0.46046,     0.46146,     0.46246,     0.46346,     0.46446,     0.46547,     0.46647,     0.46747,     0.46847,     0.46947,     0.47047,     0.47147,     0.47247,     0.47347,     0.47447,     0.47548,     0.47648,     0.47748,     0.47848,     0.47948,\n           0.48048,     0.48148,     0.48248,     0.48348,     0.48448,     0.48549,     0.48649,     0.48749,     0.48849,     0.48949,     0.49049,     0.49149,     0.49249,     0.49349,     0.49449,      0.4955,      0.4965,      0.4975,      0.4985,      0.4995,      0.5005,      0.5015,      0.5025,      0.5035,\n            0.5045,     0.50551,     0.50651,     0.50751,     0.50851,     0.50951,     0.51051,     0.51151,     0.51251,     0.51351,     0.51451,     0.51552,     0.51652,     0.51752,     0.51852,     0.51952,     0.52052,     0.52152,     0.52252,     0.52352,     0.52452,     0.52553,     0.52653,     0.52753,\n           0.52853,     0.52953,     0.53053,     0.53153,     0.53253,     0.53353,     0.53453,     0.53554,     0.53654,     0.53754,     0.53854,     0.53954,     0.54054,     0.54154,     0.54254,     0.54354,     0.54454,     0.54555,     0.54655,     0.54755,     0.54855,     0.54955,     0.55055,     0.55155,\n           0.55255,     0.55355,     0.55455,     0.55556,     0.55656,     0.55756,     0.55856,     0.55956,     0.56056,     0.56156,     0.56256,     0.56356,     0.56456,     0.56557,     0.56657,     0.56757,     0.56857,     0.56957,     0.57057,     0.57157,     0.57257,     0.57357,     0.57457,     0.57558,\n           0.57658,     0.57758,     0.57858,     0.57958,     0.58058,     0.58158,     0.58258,     0.58358,     0.58458,     0.58559,     0.58659,     0.58759,     0.58859,     0.58959,     0.59059,     0.59159,     0.59259,     0.59359,     0.59459,      0.5956,      0.5966,      0.5976,      0.5986,      0.5996,\n            0.6006,      0.6016,      0.6026,      0.6036,      0.6046,     0.60561,     0.60661,     0.60761,     0.60861,     0.60961,     0.61061,     0.61161,     0.61261,     0.61361,     0.61461,     0.61562,     0.61662,     0.61762,     0.61862,     0.61962,     0.62062,     0.62162,     0.62262,     0.62362,\n           0.62462,     0.62563,     0.62663,     0.62763,     0.62863,     0.62963,     0.63063,     0.63163,     0.63263,     0.63363,     0.63463,     0.63564,     0.63664,     0.63764,     0.63864,     0.63964,     0.64064,     0.64164,     0.64264,     0.64364,     0.64464,     0.64565,     0.64665,     0.64765,\n           0.64865,     0.64965,     0.65065,     0.65165,     0.65265,     0.65365,     0.65465,     0.65566,     0.65666,     0.65766,     0.65866,     0.65966,     0.66066,     0.66166,     0.66266,     0.66366,     0.66466,     0.66567,     0.66667,     0.66767,     0.66867,     0.66967,     0.67067,     0.67167,\n           0.67267,     0.67367,     0.67467,     0.67568,     0.67668,     0.67768,     0.67868,     0.67968,     0.68068,     0.68168,     0.68268,     0.68368,     0.68468,     0.68569,     0.68669,     0.68769,     0.68869,     0.68969,     0.69069,     0.69169,     0.69269,     0.69369,     0.69469,      0.6957,\n            0.6967,      0.6977,      0.6987,      0.6997,      0.7007,      0.7017,      0.7027,      0.7037,      0.7047,     0.70571,     0.70671,     0.70771,     0.70871,     0.70971,     0.71071,     0.71171,     0.71271,     0.71371,     0.71471,     0.71572,     0.71672,     0.71772,     0.71872,     0.71972,\n           0.72072,     0.72172,     0.72272,     0.72372,     0.72472,     0.72573,     0.72673,     0.72773,     0.72873,     0.72973,     0.73073,     0.73173,     0.73273,     0.73373,     0.73473,     0.73574,     0.73674,     0.73774,     0.73874,     0.73974,     0.74074,     0.74174,     0.74274,     0.74374,\n           0.74474,     0.74575,     0.74675,     0.74775,     0.74875,     0.74975,     0.75075,     0.75175,     0.75275,     0.75375,     0.75475,     0.75576,     0.75676,     0.75776,     0.75876,     0.75976,     0.76076,     0.76176,     0.76276,     0.76376,     0.76476,     0.76577,     0.76677,     0.76777,\n           0.76877,     0.76977,     0.77077,     0.77177,     0.77277,     0.77377,     0.77477,     0.77578,     0.77678,     0.77778,     0.77878,     0.77978,     0.78078,     0.78178,     0.78278,     0.78378,     0.78478,     0.78579,     0.78679,     0.78779,     0.78879,     0.78979,     0.79079,     0.79179,\n           0.79279,     0.79379,     0.79479,      0.7958,      0.7968,      0.7978,      0.7988,      0.7998,      0.8008,      0.8018,      0.8028,      0.8038,      0.8048,     0.80581,     0.80681,     0.80781,     0.80881,     0.80981,     0.81081,     0.81181,     0.81281,     0.81381,     0.81481,     0.81582,\n           0.81682,     0.81782,     0.81882,     0.81982,     0.82082,     0.82182,     0.82282,     0.82382,     0.82482,     0.82583,     0.82683,     0.82783,     0.82883,     0.82983,     0.83083,     0.83183,     0.83283,     0.83383,     0.83483,     0.83584,     0.83684,     0.83784,     0.83884,     0.83984,\n           0.84084,     0.84184,     0.84284,     0.84384,     0.84484,     0.84585,     0.84685,     0.84785,     0.84885,     0.84985,     0.85085,     0.85185,     0.85285,     0.85385,     0.85485,     0.85586,     0.85686,     0.85786,     0.85886,     0.85986,     0.86086,     0.86186,     0.86286,     0.86386,\n           0.86486,     0.86587,     0.86687,     0.86787,     0.86887,     0.86987,     0.87087,     0.87187,     0.87287,     0.87387,     0.87487,     0.87588,     0.87688,     0.87788,     0.87888,     0.87988,     0.88088,     0.88188,     0.88288,     0.88388,     0.88488,     0.88589,     0.88689,     0.88789,\n           0.88889,     0.88989,     0.89089,     0.89189,     0.89289,     0.89389,     0.89489,      0.8959,      0.8969,      0.8979,      0.8989,      0.8999,      0.9009,      0.9019,      0.9029,      0.9039,      0.9049,     0.90591,     0.90691,     0.90791,     0.90891,     0.90991,     0.91091,     0.91191,\n           0.91291,     0.91391,     0.91491,     0.91592,     0.91692,     0.91792,     0.91892,     0.91992,     0.92092,     0.92192,     0.92292,     0.92392,     0.92492,     0.92593,     0.92693,     0.92793,     0.92893,     0.92993,     0.93093,     0.93193,     0.93293,     0.93393,     0.93493,     0.93594,\n           0.93694,     0.93794,     0.93894,     0.93994,     0.94094,     0.94194,     0.94294,     0.94394,     0.94494,     0.94595,     0.94695,     0.94795,     0.94895,     0.94995,     0.95095,     0.95195,     0.95295,     0.95395,     0.95495,     0.95596,     0.95696,     0.95796,     0.95896,     0.95996,\n           0.96096,     0.96196,     0.96296,     0.96396,     0.96496,     0.96597,     0.96697,     0.96797,     0.96897,     0.96997,     0.97097,     0.97197,     0.97297,     0.97397,     0.97497,     0.97598,     0.97698,     0.97798,     0.97898,     0.97998,     0.98098,     0.98198,     0.98298,     0.98398,\n           0.98498,     0.98599,     0.98699,     0.98799,     0.98899,     0.98999,     0.99099,     0.99199,     0.99299,     0.99399,     0.99499,       0.996,       0.997,       0.998,       0.999,           1]), array([[          1,           1,           1, ...,   0.0021349,   0.0010675,           0],\n       [          1,           1,           1, ...,   0.0023335,   0.0011667,           0],\n       [          1,           1,           1, ...,     0.92857,     0.92857,           0],\n       ...,\n       [          1,           1,           1, ...,     0.58333,     0.58333,           0],\n       [          1,           1,           1, ...,    0.010698,   0.0053491,           0],\n       [          1,           1,           1, ...,     0.12012,     0.06006,           0]]), 'Recall', 'Precision'], [array([          0,    0.001001,    0.002002,    0.003003,    0.004004,    0.005005,    0.006006,    0.007007,    0.008008,    0.009009,     0.01001,    0.011011,    0.012012,    0.013013,    0.014014,    0.015015,    0.016016,    0.017017,    0.018018,    0.019019,     0.02002,    0.021021,    0.022022,    0.023023,\n          0.024024,    0.025025,    0.026026,    0.027027,    0.028028,    0.029029,     0.03003,    0.031031,    0.032032,    0.033033,    0.034034,    0.035035,    0.036036,    0.037037,    0.038038,    0.039039,     0.04004,    0.041041,    0.042042,    0.043043,    0.044044,    0.045045,    0.046046,    0.047047,\n          0.048048,    0.049049,     0.05005,    0.051051,    0.052052,    0.053053,    0.054054,    0.055055,    0.056056,    0.057057,    0.058058,    0.059059,     0.06006,    0.061061,    0.062062,    0.063063,    0.064064,    0.065065,    0.066066,    0.067067,    0.068068,    0.069069,     0.07007,    0.071071,\n          0.072072,    0.073073,    0.074074,    0.075075,    0.076076,    0.077077,    0.078078,    0.079079,     0.08008,    0.081081,    0.082082,    0.083083,    0.084084,    0.085085,    0.086086,    0.087087,    0.088088,    0.089089,     0.09009,    0.091091,    0.092092,    0.093093,    0.094094,    0.095095,\n          0.096096,    0.097097,    0.098098,    0.099099,      0.1001,      0.1011,      0.1021,      0.1031,      0.1041,     0.10511,     0.10611,     0.10711,     0.10811,     0.10911,     0.11011,     0.11111,     0.11211,     0.11311,     0.11411,     0.11512,     0.11612,     0.11712,     0.11812,     0.11912,\n           0.12012,     0.12112,     0.12212,     0.12312,     0.12412,     0.12513,     0.12613,     0.12713,     0.12813,     0.12913,     0.13013,     0.13113,     0.13213,     0.13313,     0.13413,     0.13514,     0.13614,     0.13714,     0.13814,     0.13914,     0.14014,     0.14114,     0.14214,     0.14314,\n           0.14414,     0.14515,     0.14615,     0.14715,     0.14815,     0.14915,     0.15015,     0.15115,     0.15215,     0.15315,     0.15415,     0.15516,     0.15616,     0.15716,     0.15816,     0.15916,     0.16016,     0.16116,     0.16216,     0.16316,     0.16416,     0.16517,     0.16617,     0.16717,\n           0.16817,     0.16917,     0.17017,     0.17117,     0.17217,     0.17317,     0.17417,     0.17518,     0.17618,     0.17718,     0.17818,     0.17918,     0.18018,     0.18118,     0.18218,     0.18318,     0.18418,     0.18519,     0.18619,     0.18719,     0.18819,     0.18919,     0.19019,     0.19119,\n           0.19219,     0.19319,     0.19419,      0.1952,      0.1962,      0.1972,      0.1982,      0.1992,      0.2002,      0.2012,      0.2022,      0.2032,      0.2042,     0.20521,     0.20621,     0.20721,     0.20821,     0.20921,     0.21021,     0.21121,     0.21221,     0.21321,     0.21421,     0.21522,\n           0.21622,     0.21722,     0.21822,     0.21922,     0.22022,     0.22122,     0.22222,     0.22322,     0.22422,     0.22523,     0.22623,     0.22723,     0.22823,     0.22923,     0.23023,     0.23123,     0.23223,     0.23323,     0.23423,     0.23524,     0.23624,     0.23724,     0.23824,     0.23924,\n           0.24024,     0.24124,     0.24224,     0.24324,     0.24424,     0.24525,     0.24625,     0.24725,     0.24825,     0.24925,     0.25025,     0.25125,     0.25225,     0.25325,     0.25425,     0.25526,     0.25626,     0.25726,     0.25826,     0.25926,     0.26026,     0.26126,     0.26226,     0.26326,\n           0.26426,     0.26527,     0.26627,     0.26727,     0.26827,     0.26927,     0.27027,     0.27127,     0.27227,     0.27327,     0.27427,     0.27528,     0.27628,     0.27728,     0.27828,     0.27928,     0.28028,     0.28128,     0.28228,     0.28328,     0.28428,     0.28529,     0.28629,     0.28729,\n           0.28829,     0.28929,     0.29029,     0.29129,     0.29229,     0.29329,     0.29429,      0.2953,      0.2963,      0.2973,      0.2983,      0.2993,      0.3003,      0.3013,      0.3023,      0.3033,      0.3043,     0.30531,     0.30631,     0.30731,     0.30831,     0.30931,     0.31031,     0.31131,\n           0.31231,     0.31331,     0.31431,     0.31532,     0.31632,     0.31732,     0.31832,     0.31932,     0.32032,     0.32132,     0.32232,     0.32332,     0.32432,     0.32533,     0.32633,     0.32733,     0.32833,     0.32933,     0.33033,     0.33133,     0.33233,     0.33333,     0.33433,     0.33534,\n           0.33634,     0.33734,     0.33834,     0.33934,     0.34034,     0.34134,     0.34234,     0.34334,     0.34434,     0.34535,     0.34635,     0.34735,     0.34835,     0.34935,     0.35035,     0.35135,     0.35235,     0.35335,     0.35435,     0.35536,     0.35636,     0.35736,     0.35836,     0.35936,\n           0.36036,     0.36136,     0.36236,     0.36336,     0.36436,     0.36537,     0.36637,     0.36737,     0.36837,     0.36937,     0.37037,     0.37137,     0.37237,     0.37337,     0.37437,     0.37538,     0.37638,     0.37738,     0.37838,     0.37938,     0.38038,     0.38138,     0.38238,     0.38338,\n           0.38438,     0.38539,     0.38639,     0.38739,     0.38839,     0.38939,     0.39039,     0.39139,     0.39239,     0.39339,     0.39439,      0.3954,      0.3964,      0.3974,      0.3984,      0.3994,      0.4004,      0.4014,      0.4024,      0.4034,      0.4044,     0.40541,     0.40641,     0.40741,\n           0.40841,     0.40941,     0.41041,     0.41141,     0.41241,     0.41341,     0.41441,     0.41542,     0.41642,     0.41742,     0.41842,     0.41942,     0.42042,     0.42142,     0.42242,     0.42342,     0.42442,     0.42543,     0.42643,     0.42743,     0.42843,     0.42943,     0.43043,     0.43143,\n           0.43243,     0.43343,     0.43443,     0.43544,     0.43644,     0.43744,     0.43844,     0.43944,     0.44044,     0.44144,     0.44244,     0.44344,     0.44444,     0.44545,     0.44645,     0.44745,     0.44845,     0.44945,     0.45045,     0.45145,     0.45245,     0.45345,     0.45445,     0.45546,\n           0.45646,     0.45746,     0.45846,     0.45946,     0.46046,     0.46146,     0.46246,     0.46346,     0.46446,     0.46547,     0.46647,     0.46747,     0.46847,     0.46947,     0.47047,     0.47147,     0.47247,     0.47347,     0.47447,     0.47548,     0.47648,     0.47748,     0.47848,     0.47948,\n           0.48048,     0.48148,     0.48248,     0.48348,     0.48448,     0.48549,     0.48649,     0.48749,     0.48849,     0.48949,     0.49049,     0.49149,     0.49249,     0.49349,     0.49449,      0.4955,      0.4965,      0.4975,      0.4985,      0.4995,      0.5005,      0.5015,      0.5025,      0.5035,\n            0.5045,     0.50551,     0.50651,     0.50751,     0.50851,     0.50951,     0.51051,     0.51151,     0.51251,     0.51351,     0.51451,     0.51552,     0.51652,     0.51752,     0.51852,     0.51952,     0.52052,     0.52152,     0.52252,     0.52352,     0.52452,     0.52553,     0.52653,     0.52753,\n           0.52853,     0.52953,     0.53053,     0.53153,     0.53253,     0.53353,     0.53453,     0.53554,     0.53654,     0.53754,     0.53854,     0.53954,     0.54054,     0.54154,     0.54254,     0.54354,     0.54454,     0.54555,     0.54655,     0.54755,     0.54855,     0.54955,     0.55055,     0.55155,\n           0.55255,     0.55355,     0.55455,     0.55556,     0.55656,     0.55756,     0.55856,     0.55956,     0.56056,     0.56156,     0.56256,     0.56356,     0.56456,     0.56557,     0.56657,     0.56757,     0.56857,     0.56957,     0.57057,     0.57157,     0.57257,     0.57357,     0.57457,     0.57558,\n           0.57658,     0.57758,     0.57858,     0.57958,     0.58058,     0.58158,     0.58258,     0.58358,     0.58458,     0.58559,     0.58659,     0.58759,     0.58859,     0.58959,     0.59059,     0.59159,     0.59259,     0.59359,     0.59459,      0.5956,      0.5966,      0.5976,      0.5986,      0.5996,\n            0.6006,      0.6016,      0.6026,      0.6036,      0.6046,     0.60561,     0.60661,     0.60761,     0.60861,     0.60961,     0.61061,     0.61161,     0.61261,     0.61361,     0.61461,     0.61562,     0.61662,     0.61762,     0.61862,     0.61962,     0.62062,     0.62162,     0.62262,     0.62362,\n           0.62462,     0.62563,     0.62663,     0.62763,     0.62863,     0.62963,     0.63063,     0.63163,     0.63263,     0.63363,     0.63463,     0.63564,     0.63664,     0.63764,     0.63864,     0.63964,     0.64064,     0.64164,     0.64264,     0.64364,     0.64464,     0.64565,     0.64665,     0.64765,\n           0.64865,     0.64965,     0.65065,     0.65165,     0.65265,     0.65365,     0.65465,     0.65566,     0.65666,     0.65766,     0.65866,     0.65966,     0.66066,     0.66166,     0.66266,     0.66366,     0.66466,     0.66567,     0.66667,     0.66767,     0.66867,     0.66967,     0.67067,     0.67167,\n           0.67267,     0.67367,     0.67467,     0.67568,     0.67668,     0.67768,     0.67868,     0.67968,     0.68068,     0.68168,     0.68268,     0.68368,     0.68468,     0.68569,     0.68669,     0.68769,     0.68869,     0.68969,     0.69069,     0.69169,     0.69269,     0.69369,     0.69469,      0.6957,\n            0.6967,      0.6977,      0.6987,      0.6997,      0.7007,      0.7017,      0.7027,      0.7037,      0.7047,     0.70571,     0.70671,     0.70771,     0.70871,     0.70971,     0.71071,     0.71171,     0.71271,     0.71371,     0.71471,     0.71572,     0.71672,     0.71772,     0.71872,     0.71972,\n           0.72072,     0.72172,     0.72272,     0.72372,     0.72472,     0.72573,     0.72673,     0.72773,     0.72873,     0.72973,     0.73073,     0.73173,     0.73273,     0.73373,     0.73473,     0.73574,     0.73674,     0.73774,     0.73874,     0.73974,     0.74074,     0.74174,     0.74274,     0.74374,\n           0.74474,     0.74575,     0.74675,     0.74775,     0.74875,     0.74975,     0.75075,     0.75175,     0.75275,     0.75375,     0.75475,     0.75576,     0.75676,     0.75776,     0.75876,     0.75976,     0.76076,     0.76176,     0.76276,     0.76376,     0.76476,     0.76577,     0.76677,     0.76777,\n           0.76877,     0.76977,     0.77077,     0.77177,     0.77277,     0.77377,     0.77477,     0.77578,     0.77678,     0.77778,     0.77878,     0.77978,     0.78078,     0.78178,     0.78278,     0.78378,     0.78478,     0.78579,     0.78679,     0.78779,     0.78879,     0.78979,     0.79079,     0.79179,\n           0.79279,     0.79379,     0.79479,      0.7958,      0.7968,      0.7978,      0.7988,      0.7998,      0.8008,      0.8018,      0.8028,      0.8038,      0.8048,     0.80581,     0.80681,     0.80781,     0.80881,     0.80981,     0.81081,     0.81181,     0.81281,     0.81381,     0.81481,     0.81582,\n           0.81682,     0.81782,     0.81882,     0.81982,     0.82082,     0.82182,     0.82282,     0.82382,     0.82482,     0.82583,     0.82683,     0.82783,     0.82883,     0.82983,     0.83083,     0.83183,     0.83283,     0.83383,     0.83483,     0.83584,     0.83684,     0.83784,     0.83884,     0.83984,\n           0.84084,     0.84184,     0.84284,     0.84384,     0.84484,     0.84585,     0.84685,     0.84785,     0.84885,     0.84985,     0.85085,     0.85185,     0.85285,     0.85385,     0.85485,     0.85586,     0.85686,     0.85786,     0.85886,     0.85986,     0.86086,     0.86186,     0.86286,     0.86386,\n           0.86486,     0.86587,     0.86687,     0.86787,     0.86887,     0.86987,     0.87087,     0.87187,     0.87287,     0.87387,     0.87487,     0.87588,     0.87688,     0.87788,     0.87888,     0.87988,     0.88088,     0.88188,     0.88288,     0.88388,     0.88488,     0.88589,     0.88689,     0.88789,\n           0.88889,     0.88989,     0.89089,     0.89189,     0.89289,     0.89389,     0.89489,      0.8959,      0.8969,      0.8979,      0.8989,      0.8999,      0.9009,      0.9019,      0.9029,      0.9039,      0.9049,     0.90591,     0.90691,     0.90791,     0.90891,     0.90991,     0.91091,     0.91191,\n           0.91291,     0.91391,     0.91491,     0.91592,     0.91692,     0.91792,     0.91892,     0.91992,     0.92092,     0.92192,     0.92292,     0.92392,     0.92492,     0.92593,     0.92693,     0.92793,     0.92893,     0.92993,     0.93093,     0.93193,     0.93293,     0.93393,     0.93493,     0.93594,\n           0.93694,     0.93794,     0.93894,     0.93994,     0.94094,     0.94194,     0.94294,     0.94394,     0.94494,     0.94595,     0.94695,     0.94795,     0.94895,     0.94995,     0.95095,     0.95195,     0.95295,     0.95395,     0.95495,     0.95596,     0.95696,     0.95796,     0.95896,     0.95996,\n           0.96096,     0.96196,     0.96296,     0.96396,     0.96496,     0.96597,     0.96697,     0.96797,     0.96897,     0.96997,     0.97097,     0.97197,     0.97297,     0.97397,     0.97497,     0.97598,     0.97698,     0.97798,     0.97898,     0.97998,     0.98098,     0.98198,     0.98298,     0.98398,\n           0.98498,     0.98599,     0.98699,     0.98799,     0.98899,     0.98999,     0.99099,     0.99199,     0.99299,     0.99399,     0.99499,       0.996,       0.997,       0.998,       0.999,           1]), array([[    0.26564,     0.26669,     0.34349, ...,           0,           0,           0],\n       [    0.30132,      0.3024,     0.37545, ...,           0,           0,           0],\n       [    0.63804,     0.63806,     0.69907, ...,           0,           0,           0],\n       ...,\n       [    0.58947,     0.58947,     0.68464, ...,           0,           0,           0],\n       [    0.43373,     0.43373,     0.53729, ...,           0,           0,           0],\n       [    0.84656,     0.84656,     0.90191, ...,           0,           0,           0]]), 'Confidence', 'F1'], [array([          0,    0.001001,    0.002002,    0.003003,    0.004004,    0.005005,    0.006006,    0.007007,    0.008008,    0.009009,     0.01001,    0.011011,    0.012012,    0.013013,    0.014014,    0.015015,    0.016016,    0.017017,    0.018018,    0.019019,     0.02002,    0.021021,    0.022022,    0.023023,\n          0.024024,    0.025025,    0.026026,    0.027027,    0.028028,    0.029029,     0.03003,    0.031031,    0.032032,    0.033033,    0.034034,    0.035035,    0.036036,    0.037037,    0.038038,    0.039039,     0.04004,    0.041041,    0.042042,    0.043043,    0.044044,    0.045045,    0.046046,    0.047047,\n          0.048048,    0.049049,     0.05005,    0.051051,    0.052052,    0.053053,    0.054054,    0.055055,    0.056056,    0.057057,    0.058058,    0.059059,     0.06006,    0.061061,    0.062062,    0.063063,    0.064064,    0.065065,    0.066066,    0.067067,    0.068068,    0.069069,     0.07007,    0.071071,\n          0.072072,    0.073073,    0.074074,    0.075075,    0.076076,    0.077077,    0.078078,    0.079079,     0.08008,    0.081081,    0.082082,    0.083083,    0.084084,    0.085085,    0.086086,    0.087087,    0.088088,    0.089089,     0.09009,    0.091091,    0.092092,    0.093093,    0.094094,    0.095095,\n          0.096096,    0.097097,    0.098098,    0.099099,      0.1001,      0.1011,      0.1021,      0.1031,      0.1041,     0.10511,     0.10611,     0.10711,     0.10811,     0.10911,     0.11011,     0.11111,     0.11211,     0.11311,     0.11411,     0.11512,     0.11612,     0.11712,     0.11812,     0.11912,\n           0.12012,     0.12112,     0.12212,     0.12312,     0.12412,     0.12513,     0.12613,     0.12713,     0.12813,     0.12913,     0.13013,     0.13113,     0.13213,     0.13313,     0.13413,     0.13514,     0.13614,     0.13714,     0.13814,     0.13914,     0.14014,     0.14114,     0.14214,     0.14314,\n           0.14414,     0.14515,     0.14615,     0.14715,     0.14815,     0.14915,     0.15015,     0.15115,     0.15215,     0.15315,     0.15415,     0.15516,     0.15616,     0.15716,     0.15816,     0.15916,     0.16016,     0.16116,     0.16216,     0.16316,     0.16416,     0.16517,     0.16617,     0.16717,\n           0.16817,     0.16917,     0.17017,     0.17117,     0.17217,     0.17317,     0.17417,     0.17518,     0.17618,     0.17718,     0.17818,     0.17918,     0.18018,     0.18118,     0.18218,     0.18318,     0.18418,     0.18519,     0.18619,     0.18719,     0.18819,     0.18919,     0.19019,     0.19119,\n           0.19219,     0.19319,     0.19419,      0.1952,      0.1962,      0.1972,      0.1982,      0.1992,      0.2002,      0.2012,      0.2022,      0.2032,      0.2042,     0.20521,     0.20621,     0.20721,     0.20821,     0.20921,     0.21021,     0.21121,     0.21221,     0.21321,     0.21421,     0.21522,\n           0.21622,     0.21722,     0.21822,     0.21922,     0.22022,     0.22122,     0.22222,     0.22322,     0.22422,     0.22523,     0.22623,     0.22723,     0.22823,     0.22923,     0.23023,     0.23123,     0.23223,     0.23323,     0.23423,     0.23524,     0.23624,     0.23724,     0.23824,     0.23924,\n           0.24024,     0.24124,     0.24224,     0.24324,     0.24424,     0.24525,     0.24625,     0.24725,     0.24825,     0.24925,     0.25025,     0.25125,     0.25225,     0.25325,     0.25425,     0.25526,     0.25626,     0.25726,     0.25826,     0.25926,     0.26026,     0.26126,     0.26226,     0.26326,\n           0.26426,     0.26527,     0.26627,     0.26727,     0.26827,     0.26927,     0.27027,     0.27127,     0.27227,     0.27327,     0.27427,     0.27528,     0.27628,     0.27728,     0.27828,     0.27928,     0.28028,     0.28128,     0.28228,     0.28328,     0.28428,     0.28529,     0.28629,     0.28729,\n           0.28829,     0.28929,     0.29029,     0.29129,     0.29229,     0.29329,     0.29429,      0.2953,      0.2963,      0.2973,      0.2983,      0.2993,      0.3003,      0.3013,      0.3023,      0.3033,      0.3043,     0.30531,     0.30631,     0.30731,     0.30831,     0.30931,     0.31031,     0.31131,\n           0.31231,     0.31331,     0.31431,     0.31532,     0.31632,     0.31732,     0.31832,     0.31932,     0.32032,     0.32132,     0.32232,     0.32332,     0.32432,     0.32533,     0.32633,     0.32733,     0.32833,     0.32933,     0.33033,     0.33133,     0.33233,     0.33333,     0.33433,     0.33534,\n           0.33634,     0.33734,     0.33834,     0.33934,     0.34034,     0.34134,     0.34234,     0.34334,     0.34434,     0.34535,     0.34635,     0.34735,     0.34835,     0.34935,     0.35035,     0.35135,     0.35235,     0.35335,     0.35435,     0.35536,     0.35636,     0.35736,     0.35836,     0.35936,\n           0.36036,     0.36136,     0.36236,     0.36336,     0.36436,     0.36537,     0.36637,     0.36737,     0.36837,     0.36937,     0.37037,     0.37137,     0.37237,     0.37337,     0.37437,     0.37538,     0.37638,     0.37738,     0.37838,     0.37938,     0.38038,     0.38138,     0.38238,     0.38338,\n           0.38438,     0.38539,     0.38639,     0.38739,     0.38839,     0.38939,     0.39039,     0.39139,     0.39239,     0.39339,     0.39439,      0.3954,      0.3964,      0.3974,      0.3984,      0.3994,      0.4004,      0.4014,      0.4024,      0.4034,      0.4044,     0.40541,     0.40641,     0.40741,\n           0.40841,     0.40941,     0.41041,     0.41141,     0.41241,     0.41341,     0.41441,     0.41542,     0.41642,     0.41742,     0.41842,     0.41942,     0.42042,     0.42142,     0.42242,     0.42342,     0.42442,     0.42543,     0.42643,     0.42743,     0.42843,     0.42943,     0.43043,     0.43143,\n           0.43243,     0.43343,     0.43443,     0.43544,     0.43644,     0.43744,     0.43844,     0.43944,     0.44044,     0.44144,     0.44244,     0.44344,     0.44444,     0.44545,     0.44645,     0.44745,     0.44845,     0.44945,     0.45045,     0.45145,     0.45245,     0.45345,     0.45445,     0.45546,\n           0.45646,     0.45746,     0.45846,     0.45946,     0.46046,     0.46146,     0.46246,     0.46346,     0.46446,     0.46547,     0.46647,     0.46747,     0.46847,     0.46947,     0.47047,     0.47147,     0.47247,     0.47347,     0.47447,     0.47548,     0.47648,     0.47748,     0.47848,     0.47948,\n           0.48048,     0.48148,     0.48248,     0.48348,     0.48448,     0.48549,     0.48649,     0.48749,     0.48849,     0.48949,     0.49049,     0.49149,     0.49249,     0.49349,     0.49449,      0.4955,      0.4965,      0.4975,      0.4985,      0.4995,      0.5005,      0.5015,      0.5025,      0.5035,\n            0.5045,     0.50551,     0.50651,     0.50751,     0.50851,     0.50951,     0.51051,     0.51151,     0.51251,     0.51351,     0.51451,     0.51552,     0.51652,     0.51752,     0.51852,     0.51952,     0.52052,     0.52152,     0.52252,     0.52352,     0.52452,     0.52553,     0.52653,     0.52753,\n           0.52853,     0.52953,     0.53053,     0.53153,     0.53253,     0.53353,     0.53453,     0.53554,     0.53654,     0.53754,     0.53854,     0.53954,     0.54054,     0.54154,     0.54254,     0.54354,     0.54454,     0.54555,     0.54655,     0.54755,     0.54855,     0.54955,     0.55055,     0.55155,\n           0.55255,     0.55355,     0.55455,     0.55556,     0.55656,     0.55756,     0.55856,     0.55956,     0.56056,     0.56156,     0.56256,     0.56356,     0.56456,     0.56557,     0.56657,     0.56757,     0.56857,     0.56957,     0.57057,     0.57157,     0.57257,     0.57357,     0.57457,     0.57558,\n           0.57658,     0.57758,     0.57858,     0.57958,     0.58058,     0.58158,     0.58258,     0.58358,     0.58458,     0.58559,     0.58659,     0.58759,     0.58859,     0.58959,     0.59059,     0.59159,     0.59259,     0.59359,     0.59459,      0.5956,      0.5966,      0.5976,      0.5986,      0.5996,\n            0.6006,      0.6016,      0.6026,      0.6036,      0.6046,     0.60561,     0.60661,     0.60761,     0.60861,     0.60961,     0.61061,     0.61161,     0.61261,     0.61361,     0.61461,     0.61562,     0.61662,     0.61762,     0.61862,     0.61962,     0.62062,     0.62162,     0.62262,     0.62362,\n           0.62462,     0.62563,     0.62663,     0.62763,     0.62863,     0.62963,     0.63063,     0.63163,     0.63263,     0.63363,     0.63463,     0.63564,     0.63664,     0.63764,     0.63864,     0.63964,     0.64064,     0.64164,     0.64264,     0.64364,     0.64464,     0.64565,     0.64665,     0.64765,\n           0.64865,     0.64965,     0.65065,     0.65165,     0.65265,     0.65365,     0.65465,     0.65566,     0.65666,     0.65766,     0.65866,     0.65966,     0.66066,     0.66166,     0.66266,     0.66366,     0.66466,     0.66567,     0.66667,     0.66767,     0.66867,     0.66967,     0.67067,     0.67167,\n           0.67267,     0.67367,     0.67467,     0.67568,     0.67668,     0.67768,     0.67868,     0.67968,     0.68068,     0.68168,     0.68268,     0.68368,     0.68468,     0.68569,     0.68669,     0.68769,     0.68869,     0.68969,     0.69069,     0.69169,     0.69269,     0.69369,     0.69469,      0.6957,\n            0.6967,      0.6977,      0.6987,      0.6997,      0.7007,      0.7017,      0.7027,      0.7037,      0.7047,     0.70571,     0.70671,     0.70771,     0.70871,     0.70971,     0.71071,     0.71171,     0.71271,     0.71371,     0.71471,     0.71572,     0.71672,     0.71772,     0.71872,     0.71972,\n           0.72072,     0.72172,     0.72272,     0.72372,     0.72472,     0.72573,     0.72673,     0.72773,     0.72873,     0.72973,     0.73073,     0.73173,     0.73273,     0.73373,     0.73473,     0.73574,     0.73674,     0.73774,     0.73874,     0.73974,     0.74074,     0.74174,     0.74274,     0.74374,\n           0.74474,     0.74575,     0.74675,     0.74775,     0.74875,     0.74975,     0.75075,     0.75175,     0.75275,     0.75375,     0.75475,     0.75576,     0.75676,     0.75776,     0.75876,     0.75976,     0.76076,     0.76176,     0.76276,     0.76376,     0.76476,     0.76577,     0.76677,     0.76777,\n           0.76877,     0.76977,     0.77077,     0.77177,     0.77277,     0.77377,     0.77477,     0.77578,     0.77678,     0.77778,     0.77878,     0.77978,     0.78078,     0.78178,     0.78278,     0.78378,     0.78478,     0.78579,     0.78679,     0.78779,     0.78879,     0.78979,     0.79079,     0.79179,\n           0.79279,     0.79379,     0.79479,      0.7958,      0.7968,      0.7978,      0.7988,      0.7998,      0.8008,      0.8018,      0.8028,      0.8038,      0.8048,     0.80581,     0.80681,     0.80781,     0.80881,     0.80981,     0.81081,     0.81181,     0.81281,     0.81381,     0.81481,     0.81582,\n           0.81682,     0.81782,     0.81882,     0.81982,     0.82082,     0.82182,     0.82282,     0.82382,     0.82482,     0.82583,     0.82683,     0.82783,     0.82883,     0.82983,     0.83083,     0.83183,     0.83283,     0.83383,     0.83483,     0.83584,     0.83684,     0.83784,     0.83884,     0.83984,\n           0.84084,     0.84184,     0.84284,     0.84384,     0.84484,     0.84585,     0.84685,     0.84785,     0.84885,     0.84985,     0.85085,     0.85185,     0.85285,     0.85385,     0.85485,     0.85586,     0.85686,     0.85786,     0.85886,     0.85986,     0.86086,     0.86186,     0.86286,     0.86386,\n           0.86486,     0.86587,     0.86687,     0.86787,     0.86887,     0.86987,     0.87087,     0.87187,     0.87287,     0.87387,     0.87487,     0.87588,     0.87688,     0.87788,     0.87888,     0.87988,     0.88088,     0.88188,     0.88288,     0.88388,     0.88488,     0.88589,     0.88689,     0.88789,\n           0.88889,     0.88989,     0.89089,     0.89189,     0.89289,     0.89389,     0.89489,      0.8959,      0.8969,      0.8979,      0.8989,      0.8999,      0.9009,      0.9019,      0.9029,      0.9039,      0.9049,     0.90591,     0.90691,     0.90791,     0.90891,     0.90991,     0.91091,     0.91191,\n           0.91291,     0.91391,     0.91491,     0.91592,     0.91692,     0.91792,     0.91892,     0.91992,     0.92092,     0.92192,     0.92292,     0.92392,     0.92492,     0.92593,     0.92693,     0.92793,     0.92893,     0.92993,     0.93093,     0.93193,     0.93293,     0.93393,     0.93493,     0.93594,\n           0.93694,     0.93794,     0.93894,     0.93994,     0.94094,     0.94194,     0.94294,     0.94394,     0.94494,     0.94595,     0.94695,     0.94795,     0.94895,     0.94995,     0.95095,     0.95195,     0.95295,     0.95395,     0.95495,     0.95596,     0.95696,     0.95796,     0.95896,     0.95996,\n           0.96096,     0.96196,     0.96296,     0.96396,     0.96496,     0.96597,     0.96697,     0.96797,     0.96897,     0.96997,     0.97097,     0.97197,     0.97297,     0.97397,     0.97497,     0.97598,     0.97698,     0.97798,     0.97898,     0.97998,     0.98098,     0.98198,     0.98298,     0.98398,\n           0.98498,     0.98599,     0.98699,     0.98799,     0.98899,     0.98999,     0.99099,     0.99199,     0.99299,     0.99399,     0.99499,       0.996,       0.997,       0.998,       0.999,           1]), array([[    0.15734,     0.15807,     0.21508, ...,           1,           1,           1],\n       [    0.18347,     0.18427,     0.24231, ...,           1,           1,           1],\n       [    0.46847,     0.46849,     0.53736, ...,           1,           1,           1],\n       ...,\n       [    0.41791,     0.41791,      0.5205, ...,           1,           1,           1],\n       [    0.28125,     0.28125,     0.37498, ...,           1,           1,           1],\n       [    0.74074,     0.74074,     0.82987, ...,           1,           1,           1]]), 'Confidence', 'Precision'], [array([          0,    0.001001,    0.002002,    0.003003,    0.004004,    0.005005,    0.006006,    0.007007,    0.008008,    0.009009,     0.01001,    0.011011,    0.012012,    0.013013,    0.014014,    0.015015,    0.016016,    0.017017,    0.018018,    0.019019,     0.02002,    0.021021,    0.022022,    0.023023,\n          0.024024,    0.025025,    0.026026,    0.027027,    0.028028,    0.029029,     0.03003,    0.031031,    0.032032,    0.033033,    0.034034,    0.035035,    0.036036,    0.037037,    0.038038,    0.039039,     0.04004,    0.041041,    0.042042,    0.043043,    0.044044,    0.045045,    0.046046,    0.047047,\n          0.048048,    0.049049,     0.05005,    0.051051,    0.052052,    0.053053,    0.054054,    0.055055,    0.056056,    0.057057,    0.058058,    0.059059,     0.06006,    0.061061,    0.062062,    0.063063,    0.064064,    0.065065,    0.066066,    0.067067,    0.068068,    0.069069,     0.07007,    0.071071,\n          0.072072,    0.073073,    0.074074,    0.075075,    0.076076,    0.077077,    0.078078,    0.079079,     0.08008,    0.081081,    0.082082,    0.083083,    0.084084,    0.085085,    0.086086,    0.087087,    0.088088,    0.089089,     0.09009,    0.091091,    0.092092,    0.093093,    0.094094,    0.095095,\n          0.096096,    0.097097,    0.098098,    0.099099,      0.1001,      0.1011,      0.1021,      0.1031,      0.1041,     0.10511,     0.10611,     0.10711,     0.10811,     0.10911,     0.11011,     0.11111,     0.11211,     0.11311,     0.11411,     0.11512,     0.11612,     0.11712,     0.11812,     0.11912,\n           0.12012,     0.12112,     0.12212,     0.12312,     0.12412,     0.12513,     0.12613,     0.12713,     0.12813,     0.12913,     0.13013,     0.13113,     0.13213,     0.13313,     0.13413,     0.13514,     0.13614,     0.13714,     0.13814,     0.13914,     0.14014,     0.14114,     0.14214,     0.14314,\n           0.14414,     0.14515,     0.14615,     0.14715,     0.14815,     0.14915,     0.15015,     0.15115,     0.15215,     0.15315,     0.15415,     0.15516,     0.15616,     0.15716,     0.15816,     0.15916,     0.16016,     0.16116,     0.16216,     0.16316,     0.16416,     0.16517,     0.16617,     0.16717,\n           0.16817,     0.16917,     0.17017,     0.17117,     0.17217,     0.17317,     0.17417,     0.17518,     0.17618,     0.17718,     0.17818,     0.17918,     0.18018,     0.18118,     0.18218,     0.18318,     0.18418,     0.18519,     0.18619,     0.18719,     0.18819,     0.18919,     0.19019,     0.19119,\n           0.19219,     0.19319,     0.19419,      0.1952,      0.1962,      0.1972,      0.1982,      0.1992,      0.2002,      0.2012,      0.2022,      0.2032,      0.2042,     0.20521,     0.20621,     0.20721,     0.20821,     0.20921,     0.21021,     0.21121,     0.21221,     0.21321,     0.21421,     0.21522,\n           0.21622,     0.21722,     0.21822,     0.21922,     0.22022,     0.22122,     0.22222,     0.22322,     0.22422,     0.22523,     0.22623,     0.22723,     0.22823,     0.22923,     0.23023,     0.23123,     0.23223,     0.23323,     0.23423,     0.23524,     0.23624,     0.23724,     0.23824,     0.23924,\n           0.24024,     0.24124,     0.24224,     0.24324,     0.24424,     0.24525,     0.24625,     0.24725,     0.24825,     0.24925,     0.25025,     0.25125,     0.25225,     0.25325,     0.25425,     0.25526,     0.25626,     0.25726,     0.25826,     0.25926,     0.26026,     0.26126,     0.26226,     0.26326,\n           0.26426,     0.26527,     0.26627,     0.26727,     0.26827,     0.26927,     0.27027,     0.27127,     0.27227,     0.27327,     0.27427,     0.27528,     0.27628,     0.27728,     0.27828,     0.27928,     0.28028,     0.28128,     0.28228,     0.28328,     0.28428,     0.28529,     0.28629,     0.28729,\n           0.28829,     0.28929,     0.29029,     0.29129,     0.29229,     0.29329,     0.29429,      0.2953,      0.2963,      0.2973,      0.2983,      0.2993,      0.3003,      0.3013,      0.3023,      0.3033,      0.3043,     0.30531,     0.30631,     0.30731,     0.30831,     0.30931,     0.31031,     0.31131,\n           0.31231,     0.31331,     0.31431,     0.31532,     0.31632,     0.31732,     0.31832,     0.31932,     0.32032,     0.32132,     0.32232,     0.32332,     0.32432,     0.32533,     0.32633,     0.32733,     0.32833,     0.32933,     0.33033,     0.33133,     0.33233,     0.33333,     0.33433,     0.33534,\n           0.33634,     0.33734,     0.33834,     0.33934,     0.34034,     0.34134,     0.34234,     0.34334,     0.34434,     0.34535,     0.34635,     0.34735,     0.34835,     0.34935,     0.35035,     0.35135,     0.35235,     0.35335,     0.35435,     0.35536,     0.35636,     0.35736,     0.35836,     0.35936,\n           0.36036,     0.36136,     0.36236,     0.36336,     0.36436,     0.36537,     0.36637,     0.36737,     0.36837,     0.36937,     0.37037,     0.37137,     0.37237,     0.37337,     0.37437,     0.37538,     0.37638,     0.37738,     0.37838,     0.37938,     0.38038,     0.38138,     0.38238,     0.38338,\n           0.38438,     0.38539,     0.38639,     0.38739,     0.38839,     0.38939,     0.39039,     0.39139,     0.39239,     0.39339,     0.39439,      0.3954,      0.3964,      0.3974,      0.3984,      0.3994,      0.4004,      0.4014,      0.4024,      0.4034,      0.4044,     0.40541,     0.40641,     0.40741,\n           0.40841,     0.40941,     0.41041,     0.41141,     0.41241,     0.41341,     0.41441,     0.41542,     0.41642,     0.41742,     0.41842,     0.41942,     0.42042,     0.42142,     0.42242,     0.42342,     0.42442,     0.42543,     0.42643,     0.42743,     0.42843,     0.42943,     0.43043,     0.43143,\n           0.43243,     0.43343,     0.43443,     0.43544,     0.43644,     0.43744,     0.43844,     0.43944,     0.44044,     0.44144,     0.44244,     0.44344,     0.44444,     0.44545,     0.44645,     0.44745,     0.44845,     0.44945,     0.45045,     0.45145,     0.45245,     0.45345,     0.45445,     0.45546,\n           0.45646,     0.45746,     0.45846,     0.45946,     0.46046,     0.46146,     0.46246,     0.46346,     0.46446,     0.46547,     0.46647,     0.46747,     0.46847,     0.46947,     0.47047,     0.47147,     0.47247,     0.47347,     0.47447,     0.47548,     0.47648,     0.47748,     0.47848,     0.47948,\n           0.48048,     0.48148,     0.48248,     0.48348,     0.48448,     0.48549,     0.48649,     0.48749,     0.48849,     0.48949,     0.49049,     0.49149,     0.49249,     0.49349,     0.49449,      0.4955,      0.4965,      0.4975,      0.4985,      0.4995,      0.5005,      0.5015,      0.5025,      0.5035,\n            0.5045,     0.50551,     0.50651,     0.50751,     0.50851,     0.50951,     0.51051,     0.51151,     0.51251,     0.51351,     0.51451,     0.51552,     0.51652,     0.51752,     0.51852,     0.51952,     0.52052,     0.52152,     0.52252,     0.52352,     0.52452,     0.52553,     0.52653,     0.52753,\n           0.52853,     0.52953,     0.53053,     0.53153,     0.53253,     0.53353,     0.53453,     0.53554,     0.53654,     0.53754,     0.53854,     0.53954,     0.54054,     0.54154,     0.54254,     0.54354,     0.54454,     0.54555,     0.54655,     0.54755,     0.54855,     0.54955,     0.55055,     0.55155,\n           0.55255,     0.55355,     0.55455,     0.55556,     0.55656,     0.55756,     0.55856,     0.55956,     0.56056,     0.56156,     0.56256,     0.56356,     0.56456,     0.56557,     0.56657,     0.56757,     0.56857,     0.56957,     0.57057,     0.57157,     0.57257,     0.57357,     0.57457,     0.57558,\n           0.57658,     0.57758,     0.57858,     0.57958,     0.58058,     0.58158,     0.58258,     0.58358,     0.58458,     0.58559,     0.58659,     0.58759,     0.58859,     0.58959,     0.59059,     0.59159,     0.59259,     0.59359,     0.59459,      0.5956,      0.5966,      0.5976,      0.5986,      0.5996,\n            0.6006,      0.6016,      0.6026,      0.6036,      0.6046,     0.60561,     0.60661,     0.60761,     0.60861,     0.60961,     0.61061,     0.61161,     0.61261,     0.61361,     0.61461,     0.61562,     0.61662,     0.61762,     0.61862,     0.61962,     0.62062,     0.62162,     0.62262,     0.62362,\n           0.62462,     0.62563,     0.62663,     0.62763,     0.62863,     0.62963,     0.63063,     0.63163,     0.63263,     0.63363,     0.63463,     0.63564,     0.63664,     0.63764,     0.63864,     0.63964,     0.64064,     0.64164,     0.64264,     0.64364,     0.64464,     0.64565,     0.64665,     0.64765,\n           0.64865,     0.64965,     0.65065,     0.65165,     0.65265,     0.65365,     0.65465,     0.65566,     0.65666,     0.65766,     0.65866,     0.65966,     0.66066,     0.66166,     0.66266,     0.66366,     0.66466,     0.66567,     0.66667,     0.66767,     0.66867,     0.66967,     0.67067,     0.67167,\n           0.67267,     0.67367,     0.67467,     0.67568,     0.67668,     0.67768,     0.67868,     0.67968,     0.68068,     0.68168,     0.68268,     0.68368,     0.68468,     0.68569,     0.68669,     0.68769,     0.68869,     0.68969,     0.69069,     0.69169,     0.69269,     0.69369,     0.69469,      0.6957,\n            0.6967,      0.6977,      0.6987,      0.6997,      0.7007,      0.7017,      0.7027,      0.7037,      0.7047,     0.70571,     0.70671,     0.70771,     0.70871,     0.70971,     0.71071,     0.71171,     0.71271,     0.71371,     0.71471,     0.71572,     0.71672,     0.71772,     0.71872,     0.71972,\n           0.72072,     0.72172,     0.72272,     0.72372,     0.72472,     0.72573,     0.72673,     0.72773,     0.72873,     0.72973,     0.73073,     0.73173,     0.73273,     0.73373,     0.73473,     0.73574,     0.73674,     0.73774,     0.73874,     0.73974,     0.74074,     0.74174,     0.74274,     0.74374,\n           0.74474,     0.74575,     0.74675,     0.74775,     0.74875,     0.74975,     0.75075,     0.75175,     0.75275,     0.75375,     0.75475,     0.75576,     0.75676,     0.75776,     0.75876,     0.75976,     0.76076,     0.76176,     0.76276,     0.76376,     0.76476,     0.76577,     0.76677,     0.76777,\n           0.76877,     0.76977,     0.77077,     0.77177,     0.77277,     0.77377,     0.77477,     0.77578,     0.77678,     0.77778,     0.77878,     0.77978,     0.78078,     0.78178,     0.78278,     0.78378,     0.78478,     0.78579,     0.78679,     0.78779,     0.78879,     0.78979,     0.79079,     0.79179,\n           0.79279,     0.79379,     0.79479,      0.7958,      0.7968,      0.7978,      0.7988,      0.7998,      0.8008,      0.8018,      0.8028,      0.8038,      0.8048,     0.80581,     0.80681,     0.80781,     0.80881,     0.80981,     0.81081,     0.81181,     0.81281,     0.81381,     0.81481,     0.81582,\n           0.81682,     0.81782,     0.81882,     0.81982,     0.82082,     0.82182,     0.82282,     0.82382,     0.82482,     0.82583,     0.82683,     0.82783,     0.82883,     0.82983,     0.83083,     0.83183,     0.83283,     0.83383,     0.83483,     0.83584,     0.83684,     0.83784,     0.83884,     0.83984,\n           0.84084,     0.84184,     0.84284,     0.84384,     0.84484,     0.84585,     0.84685,     0.84785,     0.84885,     0.84985,     0.85085,     0.85185,     0.85285,     0.85385,     0.85485,     0.85586,     0.85686,     0.85786,     0.85886,     0.85986,     0.86086,     0.86186,     0.86286,     0.86386,\n           0.86486,     0.86587,     0.86687,     0.86787,     0.86887,     0.86987,     0.87087,     0.87187,     0.87287,     0.87387,     0.87487,     0.87588,     0.87688,     0.87788,     0.87888,     0.87988,     0.88088,     0.88188,     0.88288,     0.88388,     0.88488,     0.88589,     0.88689,     0.88789,\n           0.88889,     0.88989,     0.89089,     0.89189,     0.89289,     0.89389,     0.89489,      0.8959,      0.8969,      0.8979,      0.8989,      0.8999,      0.9009,      0.9019,      0.9029,      0.9039,      0.9049,     0.90591,     0.90691,     0.90791,     0.90891,     0.90991,     0.91091,     0.91191,\n           0.91291,     0.91391,     0.91491,     0.91592,     0.91692,     0.91792,     0.91892,     0.91992,     0.92092,     0.92192,     0.92292,     0.92392,     0.92492,     0.92593,     0.92693,     0.92793,     0.92893,     0.92993,     0.93093,     0.93193,     0.93293,     0.93393,     0.93493,     0.93594,\n           0.93694,     0.93794,     0.93894,     0.93994,     0.94094,     0.94194,     0.94294,     0.94394,     0.94494,     0.94595,     0.94695,     0.94795,     0.94895,     0.94995,     0.95095,     0.95195,     0.95295,     0.95395,     0.95495,     0.95596,     0.95696,     0.95796,     0.95896,     0.95996,\n           0.96096,     0.96196,     0.96296,     0.96396,     0.96496,     0.96597,     0.96697,     0.96797,     0.96897,     0.96997,     0.97097,     0.97197,     0.97297,     0.97397,     0.97497,     0.97598,     0.97698,     0.97798,     0.97898,     0.97998,     0.98098,     0.98198,     0.98298,     0.98398,\n           0.98498,     0.98599,     0.98699,     0.98799,     0.98899,     0.98999,     0.99099,     0.99199,     0.99299,     0.99399,     0.99499,       0.996,       0.997,       0.998,       0.999,           1]), array([[    0.85246,     0.85246,     0.85246, ...,           0,           0,           0],\n       [    0.84259,     0.84259,     0.83333, ...,           0,           0,           0],\n       [          1,           1,           1, ...,           0,           0,           0],\n       ...,\n       [          1,           1,           1, ...,           0,           0,           0],\n       [    0.94737,     0.94737,     0.94737, ...,           0,           0,           0],\n       [    0.98765,     0.98765,     0.98765, ...,           0,           0,           0]]), 'Confidence', 'Recall']]\nfitness: 0.833568656689037\nkeys: ['metrics/precision(B)', 'metrics/recall(B)', 'metrics/mAP50(B)', 'metrics/mAP50-95(B)']\nmaps: array([    0.50273,     0.48349,     0.89146,     0.80561,     0.91538,     0.86534,     0.92919,     0.89303,     0.86455,     0.88809,     0.91277,     0.86445,     0.74574,     0.94198])\nnames: {0: 'Green Light', 1: 'Red Light', 2: 'Speed Limit 100', 3: 'Speed Limit 110', 4: 'Speed Limit 120', 5: 'Speed Limit 20', 6: 'Speed Limit 30', 7: 'Speed Limit 40', 8: 'Speed Limit 50', 9: 'Speed Limit 60', 10: 'Speed Limit 70', 11: 'Speed Limit 80', 12: 'Speed Limit 90', 13: 'Stop'}\nplot: True\nresults_dict: {'metrics/precision(B)': 0.9269532162684228, 'metrics/recall(B)': 0.903037039242872, 'metrics/mAP50(B)': 0.9403720482629666, 'metrics/mAP50-95(B)': 0.8217016131808226, 'fitness': 0.833568656689037}\nsave_dir: PosixPath('runs/detect/train')\nspeed: {'preprocess': 0.0803354527619894, 'inference': 2.57200367292959, 'loss': 0.00017948364943600771, 'postprocess': 0.1410033074806394}\ntask: 'detect'"
          },
          "metadata": {}
        }
      ]
    },
    {
      "cell_type": "code",
      "source": [
        "best  = YOLO('/kaggle/working/runs/detect/train/weights/best.pt')"
      ],
      "metadata": {
        "execution": {
          "iopub.status.busy": "2024-09-30T15:06:21.056003Z",
          "iopub.execute_input": "2024-09-30T15:06:21.057029Z",
          "iopub.status.idle": "2024-09-30T15:06:21.195728Z",
          "shell.execute_reply.started": "2024-09-30T15:06:21.056977Z",
          "shell.execute_reply": "2024-09-30T15:06:21.194856Z"
        },
        "trusted": true,
        "id": "JUNuHeeFCZax"
      },
      "execution_count": null,
      "outputs": []
    },
    {
      "cell_type": "code",
      "source": [
        "best.predict('/kaggle/input/trafficsigns14/dataset/test/images',save = True)"
      ],
      "metadata": {
        "execution": {
          "iopub.status.busy": "2024-09-30T15:06:22.293072Z",
          "iopub.execute_input": "2024-09-30T15:06:22.293692Z",
          "iopub.status.idle": "2024-09-30T15:06:40.736208Z",
          "shell.execute_reply.started": "2024-09-30T15:06:22.293650Z",
          "shell.execute_reply": "2024-09-30T15:06:40.735258Z"
        },
        "trusted": true,
        "id": "Ltt9x4DdCZax"
      },
      "execution_count": null,
      "outputs": []
    },
    {
      "cell_type": "markdown",
      "source": [
        "### **File Removal Script**\n",
        "\n",
        "This script checks for the existence of a specified file and removes it if it exists, providing appropriate feedback to the user.\n",
        "\n",
        "---\n",
        "\n",
        "### **Code:**\n",
        "\n"
      ],
      "metadata": {
        "id": "q2vymyYEDAvd"
      }
    },
    {
      "cell_type": "code",
      "source": [
        "import os\n",
        "\n",
        "file_path = '/kaggle/working/YOLOv10s.zip'\n",
        "\n",
        "if os.path.exists(file_path):\n",
        "    os.remove(file_path)  # Remove the file\n",
        "    print(f\"{file_path} has been removed.\")\n",
        "else:\n",
        "    print(f\"{file_path} does not exist.\")"
      ],
      "metadata": {
        "execution": {
          "iopub.status.busy": "2024-09-30T15:16:52.955260Z",
          "iopub.execute_input": "2024-09-30T15:16:52.955656Z",
          "iopub.status.idle": "2024-09-30T15:16:53.069870Z",
          "shell.execute_reply.started": "2024-09-30T15:16:52.955618Z",
          "shell.execute_reply": "2024-09-30T15:16:53.068409Z"
        },
        "trusted": true,
        "id": "MSB4T8PFCZax"
      },
      "execution_count": null,
      "outputs": []
    },
    {
      "cell_type": "code",
      "source": [
        "import shutil\n",
        "shutil.make_archive('/kaggle/working/YOLOv10S','zip','/kaggle/working/wandb')"
      ],
      "metadata": {
        "execution": {
          "iopub.status.busy": "2024-09-30T15:18:15.674762Z",
          "iopub.execute_input": "2024-09-30T15:18:15.675412Z",
          "iopub.status.idle": "2024-09-30T15:18:16.139514Z",
          "shell.execute_reply.started": "2024-09-30T15:18:15.675369Z",
          "shell.execute_reply": "2024-09-30T15:18:16.138522Z"
        },
        "trusted": true,
        "id": "jh2ktu5QCZax"
      },
      "execution_count": null,
      "outputs": []
    }
  ]
}